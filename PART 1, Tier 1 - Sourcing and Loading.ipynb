import pandas as pd
import numpy as np
import matplotlib as plt
#to be able to write and read csv
import csv
# scipi is a library for statistical tests and visualizations 
from scipy import stats
# random enables us to generate random numbers
import random
# Now that the files are saved, we want to load them into Python using read_csv and pandas.

# Create a variable called google, and store in it the path of the csv file that contains your google dataset. 
# If your dataset is in the same folder as this notebook, the path will simply be the name of the file. 
with open('googleplaystore.csv', "r") as Google:
    data = csv.reader(Google)
# Read the csv file into a data frame called Google using the read_csv() pandas method.
Google = pd.read_csv("googleplaystore.csv")

# Using the head() pandas method, observe the first three entries.
Google.head(3)
# Create a variable called apple, and store in it the path of the csv file that contains your apple dataset. 
# couldn't succeed apple = googleplaystore.csv

# Read the csv file into a pandas DataFrame object called Apple.
Apple =pd.read_csv("googleplaystore.csv")
# Observe the first three entries like you did with your other data. 
Apple.head(3)



#_ _ _ = Google[['Category', 'Rating', 'Reviews', 'Price']]
# Check the first three entries
#Apple = _ _ _ 

# Let's check the first three entries
Apple.head(3)
