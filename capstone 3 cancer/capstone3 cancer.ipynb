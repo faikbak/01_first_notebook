{
 "cells": [
  {
   "cell_type": "code",
   "execution_count": 1,
   "id": "ddaea4f9",
   "metadata": {},
   "outputs": [],
   "source": [
    "import pandas as pd\n",
    "import numpy as np\n",
    "import matplotlib.pyplot as plt\n",
    "import seaborn as sns\n",
    "import datetime\n",
    "from sklearn.datasets import load_breast_cancer\n",
    "from pandas_profiling import ProfileReport\n",
    "import scipy as sp\n",
    "import warnings\n",
    "import os \n",
    "from scipy import stats\n",
    "warnings.filterwarnings(\"ignore\")"
   ]
  },
  {
   "cell_type": "code",
   "execution_count": 2,
   "id": "9623e595",
   "metadata": {},
   "outputs": [],
   "source": [
    "cancer = load_breast_cancer()"
   ]
  },
  {
   "cell_type": "code",
   "execution_count": 3,
   "id": "33a82072",
   "metadata": {},
   "outputs": [
    {
     "data": {
      "text/plain": [
       "dict_keys(['data', 'target', 'frame', 'target_names', 'DESCR', 'feature_names', 'filename'])"
      ]
     },
     "execution_count": 3,
     "metadata": {},
     "output_type": "execute_result"
    }
   ],
   "source": [
    "cancer.keys()"
   ]
  },
  {
   "cell_type": "code",
   "execution_count": 4,
   "id": "bbc4edf3",
   "metadata": {},
   "outputs": [
    {
     "name": "stdout",
     "output_type": "stream",
     "text": [
      ".. _breast_cancer_dataset:\n",
      "\n",
      "Breast cancer wisconsin (diagnostic) dataset\n",
      "--------------------------------------------\n",
      "\n",
      "**Data Set Characteristics:**\n",
      "\n",
      "    :Number of Instances: 569\n",
      "\n",
      "    :Number of Attributes: 30 numeric, predictive attributes and the class\n",
      "\n",
      "    :Attribute Information:\n",
      "        - radius (mean of distances from center to points on the perimeter)\n",
      "        - texture (standard deviation of gray-scale values)\n",
      "        - perimeter\n",
      "        - area\n",
      "        - smoothness (local variation in radius lengths)\n",
      "        - compactness (perimeter^2 / area - 1.0)\n",
      "        - concavity (severity of concave portions of the contour)\n",
      "        - concave points (number of concave portions of the contour)\n",
      "        - symmetry\n",
      "        - fractal dimension (\"coastline approximation\" - 1)\n",
      "\n",
      "        The mean, standard error, and \"worst\" or largest (mean of the three\n",
      "        worst/largest values) of these features were computed for each image,\n",
      "        resulting in 30 features.  For instance, field 0 is Mean Radius, field\n",
      "        10 is Radius SE, field 20 is Worst Radius.\n",
      "\n",
      "        - class:\n",
      "                - WDBC-Malignant\n",
      "                - WDBC-Benign\n",
      "\n",
      "    :Summary Statistics:\n",
      "\n",
      "    ===================================== ====== ======\n",
      "                                           Min    Max\n",
      "    ===================================== ====== ======\n",
      "    radius (mean):                        6.981  28.11\n",
      "    texture (mean):                       9.71   39.28\n",
      "    perimeter (mean):                     43.79  188.5\n",
      "    area (mean):                          143.5  2501.0\n",
      "    smoothness (mean):                    0.053  0.163\n",
      "    compactness (mean):                   0.019  0.345\n",
      "    concavity (mean):                     0.0    0.427\n",
      "    concave points (mean):                0.0    0.201\n",
      "    symmetry (mean):                      0.106  0.304\n",
      "    fractal dimension (mean):             0.05   0.097\n",
      "    radius (standard error):              0.112  2.873\n",
      "    texture (standard error):             0.36   4.885\n",
      "    perimeter (standard error):           0.757  21.98\n",
      "    area (standard error):                6.802  542.2\n",
      "    smoothness (standard error):          0.002  0.031\n",
      "    compactness (standard error):         0.002  0.135\n",
      "    concavity (standard error):           0.0    0.396\n",
      "    concave points (standard error):      0.0    0.053\n",
      "    symmetry (standard error):            0.008  0.079\n",
      "    fractal dimension (standard error):   0.001  0.03\n",
      "    radius (worst):                       7.93   36.04\n",
      "    texture (worst):                      12.02  49.54\n",
      "    perimeter (worst):                    50.41  251.2\n",
      "    area (worst):                         185.2  4254.0\n",
      "    smoothness (worst):                   0.071  0.223\n",
      "    compactness (worst):                  0.027  1.058\n",
      "    concavity (worst):                    0.0    1.252\n",
      "    concave points (worst):               0.0    0.291\n",
      "    symmetry (worst):                     0.156  0.664\n",
      "    fractal dimension (worst):            0.055  0.208\n",
      "    ===================================== ====== ======\n",
      "\n",
      "    :Missing Attribute Values: None\n",
      "\n",
      "    :Class Distribution: 212 - Malignant, 357 - Benign\n",
      "\n",
      "    :Creator:  Dr. William H. Wolberg, W. Nick Street, Olvi L. Mangasarian\n",
      "\n",
      "    :Donor: Nick Street\n",
      "\n",
      "    :Date: November, 1995\n",
      "\n",
      "This is a copy of UCI ML Breast Cancer Wisconsin (Diagnostic) datasets.\n",
      "https://goo.gl/U2Uwz2\n",
      "\n",
      "Features are computed from a digitized image of a fine needle\n",
      "aspirate (FNA) of a breast mass.  They describe\n",
      "characteristics of the cell nuclei present in the image.\n",
      "\n",
      "Separating plane described above was obtained using\n",
      "Multisurface Method-Tree (MSM-T) [K. P. Bennett, \"Decision Tree\n",
      "Construction Via Linear Programming.\" Proceedings of the 4th\n",
      "Midwest Artificial Intelligence and Cognitive Science Society,\n",
      "pp. 97-101, 1992], a classification method which uses linear\n",
      "programming to construct a decision tree.  Relevant features\n",
      "were selected using an exhaustive search in the space of 1-4\n",
      "features and 1-3 separating planes.\n",
      "\n",
      "The actual linear program used to obtain the separating plane\n",
      "in the 3-dimensional space is that described in:\n",
      "[K. P. Bennett and O. L. Mangasarian: \"Robust Linear\n",
      "Programming Discrimination of Two Linearly Inseparable Sets\",\n",
      "Optimization Methods and Software 1, 1992, 23-34].\n",
      "\n",
      "This database is also available through the UW CS ftp server:\n",
      "\n",
      "ftp ftp.cs.wisc.edu\n",
      "cd math-prog/cpo-dataset/machine-learn/WDBC/\n",
      "\n",
      ".. topic:: References\n",
      "\n",
      "   - W.N. Street, W.H. Wolberg and O.L. Mangasarian. Nuclear feature extraction \n",
      "     for breast tumor diagnosis. IS&T/SPIE 1993 International Symposium on \n",
      "     Electronic Imaging: Science and Technology, volume 1905, pages 861-870,\n",
      "     San Jose, CA, 1993.\n",
      "   - O.L. Mangasarian, W.N. Street and W.H. Wolberg. Breast cancer diagnosis and \n",
      "     prognosis via linear programming. Operations Research, 43(4), pages 570-577, \n",
      "     July-August 1995.\n",
      "   - W.H. Wolberg, W.N. Street, and O.L. Mangasarian. Machine learning techniques\n",
      "     to diagnose breast cancer from fine-needle aspirates. Cancer Letters 77 (1994) \n",
      "     163-171.\n"
     ]
    }
   ],
   "source": [
    "print(cancer.DESCR)"
   ]
  },
  {
   "cell_type": "code",
   "execution_count": 5,
   "id": "7e202d3c",
   "metadata": {
    "scrolled": true
   },
   "outputs": [
    {
     "data": {
      "text/plain": [
       "(569, 30)"
      ]
     },
     "execution_count": 5,
     "metadata": {},
     "output_type": "execute_result"
    }
   ],
   "source": [
    "cancer.data.shape"
   ]
  },
  {
   "cell_type": "markdown",
   "id": "a2b53355",
   "metadata": {},
   "source": [
    "assign cancer data to cancer_df"
   ]
  },
  {
   "cell_type": "code",
   "execution_count": 6,
   "id": "7afc158c",
   "metadata": {
    "scrolled": true
   },
   "outputs": [],
   "source": [
    "cancer_df=pd.DataFrame(np.c_[cancer['data'], cancer['target']], columns = np.append(cancer['feature_names'], ['target']))"
   ]
  },
  {
   "cell_type": "code",
   "execution_count": 7,
   "id": "13c557d8",
   "metadata": {
    "scrolled": true
   },
   "outputs": [
    {
     "data": {
      "text/html": [
       "<div>\n",
       "<style scoped>\n",
       "    .dataframe tbody tr th:only-of-type {\n",
       "        vertical-align: middle;\n",
       "    }\n",
       "\n",
       "    .dataframe tbody tr th {\n",
       "        vertical-align: top;\n",
       "    }\n",
       "\n",
       "    .dataframe thead th {\n",
       "        text-align: right;\n",
       "    }\n",
       "</style>\n",
       "<table border=\"1\" class=\"dataframe\">\n",
       "  <thead>\n",
       "    <tr style=\"text-align: right;\">\n",
       "      <th></th>\n",
       "      <th>mean radius</th>\n",
       "      <th>mean texture</th>\n",
       "      <th>mean perimeter</th>\n",
       "      <th>mean area</th>\n",
       "      <th>mean smoothness</th>\n",
       "      <th>mean compactness</th>\n",
       "      <th>mean concavity</th>\n",
       "      <th>mean concave points</th>\n",
       "      <th>mean symmetry</th>\n",
       "      <th>mean fractal dimension</th>\n",
       "      <th>...</th>\n",
       "      <th>worst texture</th>\n",
       "      <th>worst perimeter</th>\n",
       "      <th>worst area</th>\n",
       "      <th>worst smoothness</th>\n",
       "      <th>worst compactness</th>\n",
       "      <th>worst concavity</th>\n",
       "      <th>worst concave points</th>\n",
       "      <th>worst symmetry</th>\n",
       "      <th>worst fractal dimension</th>\n",
       "      <th>target</th>\n",
       "    </tr>\n",
       "  </thead>\n",
       "  <tbody>\n",
       "    <tr>\n",
       "      <th>410</th>\n",
       "      <td>11.36</td>\n",
       "      <td>17.57</td>\n",
       "      <td>72.49</td>\n",
       "      <td>399.8</td>\n",
       "      <td>0.08858</td>\n",
       "      <td>0.05313</td>\n",
       "      <td>0.02783</td>\n",
       "      <td>0.02100</td>\n",
       "      <td>0.1601</td>\n",
       "      <td>0.05913</td>\n",
       "      <td>...</td>\n",
       "      <td>36.32</td>\n",
       "      <td>85.07</td>\n",
       "      <td>521.3</td>\n",
       "      <td>0.1453</td>\n",
       "      <td>0.16220</td>\n",
       "      <td>0.18110</td>\n",
       "      <td>0.08698</td>\n",
       "      <td>0.2973</td>\n",
       "      <td>0.07745</td>\n",
       "      <td>1.0</td>\n",
       "    </tr>\n",
       "    <tr>\n",
       "      <th>60</th>\n",
       "      <td>10.17</td>\n",
       "      <td>14.88</td>\n",
       "      <td>64.55</td>\n",
       "      <td>311.9</td>\n",
       "      <td>0.11340</td>\n",
       "      <td>0.08061</td>\n",
       "      <td>0.01084</td>\n",
       "      <td>0.01290</td>\n",
       "      <td>0.2743</td>\n",
       "      <td>0.06960</td>\n",
       "      <td>...</td>\n",
       "      <td>17.45</td>\n",
       "      <td>69.86</td>\n",
       "      <td>368.6</td>\n",
       "      <td>0.1275</td>\n",
       "      <td>0.09866</td>\n",
       "      <td>0.02168</td>\n",
       "      <td>0.02579</td>\n",
       "      <td>0.3557</td>\n",
       "      <td>0.08020</td>\n",
       "      <td>1.0</td>\n",
       "    </tr>\n",
       "    <tr>\n",
       "      <th>295</th>\n",
       "      <td>13.77</td>\n",
       "      <td>13.27</td>\n",
       "      <td>88.06</td>\n",
       "      <td>582.7</td>\n",
       "      <td>0.09198</td>\n",
       "      <td>0.06221</td>\n",
       "      <td>0.01063</td>\n",
       "      <td>0.01917</td>\n",
       "      <td>0.1592</td>\n",
       "      <td>0.05912</td>\n",
       "      <td>...</td>\n",
       "      <td>16.93</td>\n",
       "      <td>94.17</td>\n",
       "      <td>661.1</td>\n",
       "      <td>0.1170</td>\n",
       "      <td>0.10720</td>\n",
       "      <td>0.03732</td>\n",
       "      <td>0.05802</td>\n",
       "      <td>0.2823</td>\n",
       "      <td>0.06794</td>\n",
       "      <td>1.0</td>\n",
       "    </tr>\n",
       "    <tr>\n",
       "      <th>386</th>\n",
       "      <td>12.21</td>\n",
       "      <td>14.09</td>\n",
       "      <td>78.78</td>\n",
       "      <td>462.0</td>\n",
       "      <td>0.08108</td>\n",
       "      <td>0.07823</td>\n",
       "      <td>0.06839</td>\n",
       "      <td>0.02534</td>\n",
       "      <td>0.1646</td>\n",
       "      <td>0.06154</td>\n",
       "      <td>...</td>\n",
       "      <td>19.29</td>\n",
       "      <td>87.65</td>\n",
       "      <td>529.9</td>\n",
       "      <td>0.1026</td>\n",
       "      <td>0.24310</td>\n",
       "      <td>0.30760</td>\n",
       "      <td>0.09140</td>\n",
       "      <td>0.2677</td>\n",
       "      <td>0.08824</td>\n",
       "      <td>1.0</td>\n",
       "    </tr>\n",
       "    <tr>\n",
       "      <th>518</th>\n",
       "      <td>12.88</td>\n",
       "      <td>18.22</td>\n",
       "      <td>84.45</td>\n",
       "      <td>493.1</td>\n",
       "      <td>0.12180</td>\n",
       "      <td>0.16610</td>\n",
       "      <td>0.04825</td>\n",
       "      <td>0.05303</td>\n",
       "      <td>0.1709</td>\n",
       "      <td>0.07253</td>\n",
       "      <td>...</td>\n",
       "      <td>24.37</td>\n",
       "      <td>99.31</td>\n",
       "      <td>674.7</td>\n",
       "      <td>0.1456</td>\n",
       "      <td>0.29610</td>\n",
       "      <td>0.12460</td>\n",
       "      <td>0.10960</td>\n",
       "      <td>0.2582</td>\n",
       "      <td>0.08893</td>\n",
       "      <td>1.0</td>\n",
       "    </tr>\n",
       "  </tbody>\n",
       "</table>\n",
       "<p>5 rows × 31 columns</p>\n",
       "</div>"
      ],
      "text/plain": [
       "     mean radius  mean texture  mean perimeter  mean area  mean smoothness  \\\n",
       "410        11.36         17.57           72.49      399.8          0.08858   \n",
       "60         10.17         14.88           64.55      311.9          0.11340   \n",
       "295        13.77         13.27           88.06      582.7          0.09198   \n",
       "386        12.21         14.09           78.78      462.0          0.08108   \n",
       "518        12.88         18.22           84.45      493.1          0.12180   \n",
       "\n",
       "     mean compactness  mean concavity  mean concave points  mean symmetry  \\\n",
       "410           0.05313         0.02783              0.02100         0.1601   \n",
       "60            0.08061         0.01084              0.01290         0.2743   \n",
       "295           0.06221         0.01063              0.01917         0.1592   \n",
       "386           0.07823         0.06839              0.02534         0.1646   \n",
       "518           0.16610         0.04825              0.05303         0.1709   \n",
       "\n",
       "     mean fractal dimension  ...  worst texture  worst perimeter  worst area  \\\n",
       "410                 0.05913  ...          36.32            85.07       521.3   \n",
       "60                  0.06960  ...          17.45            69.86       368.6   \n",
       "295                 0.05912  ...          16.93            94.17       661.1   \n",
       "386                 0.06154  ...          19.29            87.65       529.9   \n",
       "518                 0.07253  ...          24.37            99.31       674.7   \n",
       "\n",
       "     worst smoothness  worst compactness  worst concavity  \\\n",
       "410            0.1453            0.16220          0.18110   \n",
       "60             0.1275            0.09866          0.02168   \n",
       "295            0.1170            0.10720          0.03732   \n",
       "386            0.1026            0.24310          0.30760   \n",
       "518            0.1456            0.29610          0.12460   \n",
       "\n",
       "     worst concave points  worst symmetry  worst fractal dimension  target  \n",
       "410               0.08698          0.2973                  0.07745     1.0  \n",
       "60                0.02579          0.3557                  0.08020     1.0  \n",
       "295               0.05802          0.2823                  0.06794     1.0  \n",
       "386               0.09140          0.2677                  0.08824     1.0  \n",
       "518               0.10960          0.2582                  0.08893     1.0  \n",
       "\n",
       "[5 rows x 31 columns]"
      ]
     },
     "execution_count": 7,
     "metadata": {},
     "output_type": "execute_result"
    }
   ],
   "source": [
    "cancer_df.sample(5)"
   ]
  },
  {
   "cell_type": "code",
   "execution_count": 8,
   "id": "bf38f648",
   "metadata": {},
   "outputs": [
    {
     "data": {
      "text/plain": [
       "array([0., 1.])"
      ]
     },
     "execution_count": 8,
     "metadata": {},
     "output_type": "execute_result"
    }
   ],
   "source": [
    "cancer_df['target'].unique()"
   ]
  },
  {
   "cell_type": "code",
   "execution_count": 9,
   "id": "fcbdd7a6",
   "metadata": {
    "scrolled": false
   },
   "outputs": [
    {
     "data": {
      "text/plain": [
       "mean radius                0\n",
       "mean texture               0\n",
       "mean perimeter             0\n",
       "mean area                  0\n",
       "mean smoothness            0\n",
       "mean compactness           0\n",
       "mean concavity             0\n",
       "mean concave points        0\n",
       "mean symmetry              0\n",
       "mean fractal dimension     0\n",
       "radius error               0\n",
       "texture error              0\n",
       "perimeter error            0\n",
       "area error                 0\n",
       "smoothness error           0\n",
       "compactness error          0\n",
       "concavity error            0\n",
       "concave points error       0\n",
       "symmetry error             0\n",
       "fractal dimension error    0\n",
       "worst radius               0\n",
       "worst texture              0\n",
       "worst perimeter            0\n",
       "worst area                 0\n",
       "worst smoothness           0\n",
       "worst compactness          0\n",
       "worst concavity            0\n",
       "worst concave points       0\n",
       "worst symmetry             0\n",
       "worst fractal dimension    0\n",
       "target                     0\n",
       "dtype: int64"
      ]
     },
     "execution_count": 9,
     "metadata": {},
     "output_type": "execute_result"
    }
   ],
   "source": [
    "cancer_df.isna().sum()"
   ]
  },
  {
   "cell_type": "code",
   "execution_count": 10,
   "id": "c06c6769",
   "metadata": {
    "scrolled": true
   },
   "outputs": [
    {
     "name": "stdout",
     "output_type": "stream",
     "text": [
      "<class 'pandas.core.frame.DataFrame'>\n",
      "RangeIndex: 569 entries, 0 to 568\n",
      "Data columns (total 31 columns):\n",
      " #   Column                   Non-Null Count  Dtype  \n",
      "---  ------                   --------------  -----  \n",
      " 0   mean radius              569 non-null    float64\n",
      " 1   mean texture             569 non-null    float64\n",
      " 2   mean perimeter           569 non-null    float64\n",
      " 3   mean area                569 non-null    float64\n",
      " 4   mean smoothness          569 non-null    float64\n",
      " 5   mean compactness         569 non-null    float64\n",
      " 6   mean concavity           569 non-null    float64\n",
      " 7   mean concave points      569 non-null    float64\n",
      " 8   mean symmetry            569 non-null    float64\n",
      " 9   mean fractal dimension   569 non-null    float64\n",
      " 10  radius error             569 non-null    float64\n",
      " 11  texture error            569 non-null    float64\n",
      " 12  perimeter error          569 non-null    float64\n",
      " 13  area error               569 non-null    float64\n",
      " 14  smoothness error         569 non-null    float64\n",
      " 15  compactness error        569 non-null    float64\n",
      " 16  concavity error          569 non-null    float64\n",
      " 17  concave points error     569 non-null    float64\n",
      " 18  symmetry error           569 non-null    float64\n",
      " 19  fractal dimension error  569 non-null    float64\n",
      " 20  worst radius             569 non-null    float64\n",
      " 21  worst texture            569 non-null    float64\n",
      " 22  worst perimeter          569 non-null    float64\n",
      " 23  worst area               569 non-null    float64\n",
      " 24  worst smoothness         569 non-null    float64\n",
      " 25  worst compactness        569 non-null    float64\n",
      " 26  worst concavity          569 non-null    float64\n",
      " 27  worst concave points     569 non-null    float64\n",
      " 28  worst symmetry           569 non-null    float64\n",
      " 29  worst fractal dimension  569 non-null    float64\n",
      " 30  target                   569 non-null    float64\n",
      "dtypes: float64(31)\n",
      "memory usage: 137.9 KB\n"
     ]
    }
   ],
   "source": [
    "cancer_df.info()"
   ]
  },
  {
   "cell_type": "markdown",
   "id": "04d7aebd",
   "metadata": {},
   "source": [
    "change target column data type.make it integer"
   ]
  },
  {
   "cell_type": "code",
   "execution_count": 11,
   "id": "6aed48f1",
   "metadata": {
    "scrolled": true
   },
   "outputs": [],
   "source": [
    "cancer_df.target=cancer_df.target.astype('int64')"
   ]
  },
  {
   "cell_type": "markdown",
   "id": "2aa94f7e",
   "metadata": {},
   "source": [
    "569 entries in 301 columns without any time index and all of them except target column are float. i will group all columns starting with 'means'and 'worst',ending with 'errors' colomns just in case"
   ]
  },
  {
   "cell_type": "code",
   "execution_count": 12,
   "id": "15c4327b",
   "metadata": {},
   "outputs": [
    {
     "data": {
      "text/plain": [
       "[Index(['mean radius', 'mean texture', 'mean perimeter', 'mean area',\n",
       "        'mean smoothness', 'mean compactness', 'mean concavity',\n",
       "        'mean concave points', 'mean symmetry', 'mean fractal dimension'],\n",
       "       dtype='object'),\n",
       " Index(['worst radius', 'worst texture', 'worst perimeter', 'worst area',\n",
       "        'worst smoothness', 'worst compactness', 'worst concavity',\n",
       "        'worst concave points', 'worst symmetry', 'worst fractal dimension'],\n",
       "       dtype='object'),\n",
       " Index(['radius error', 'texture error', 'perimeter error', 'area error',\n",
       "        'smoothness error', 'compactness error', 'concavity error',\n",
       "        'concave points error', 'symmetry error', 'fractal dimension error'],\n",
       "       dtype='object')]"
      ]
     },
     "execution_count": 12,
     "metadata": {},
     "output_type": "execute_result"
    }
   ],
   "source": [
    "means=cancer_df.columns[[x.startswith(\"mean\") for x in cancer_df.columns]]\n",
    "worsts=cancer_df.columns[[x.startswith(\"worst\") for x in cancer_df.columns]]\n",
    "errors=cancer_df.columns[[x.endswith(\"error\") for x in cancer_df.columns]]\n",
    "[means,\n",
    "worsts,\n",
    "errors]"
   ]
  },
  {
   "cell_type": "code",
   "execution_count": 13,
   "id": "aef2fa75",
   "metadata": {},
   "outputs": [
    {
     "data": {
      "text/plain": [
       "357"
      ]
     },
     "execution_count": 13,
     "metadata": {},
     "output_type": "execute_result"
    }
   ],
   "source": [
    "cancer_df.target.sum()"
   ]
  },
  {
   "cell_type": "markdown",
   "id": "becff30d",
   "metadata": {},
   "source": [
    "357 of 569 patients diagnosed as cancer according to our data. lets show their number in a pie chart and histogram"
   ]
  },
  {
   "cell_type": "code",
   "execution_count": 14,
   "id": "2e683e57",
   "metadata": {},
   "outputs": [
    {
     "data": {
      "image/png": "[encoded data removed]",
      "text/plain": [
       "<Figure size 432x288 with 1 Axes>"
      ]
     },
     "metadata": {
      "needs_background": "light"
     },
     "output_type": "display_data"
    },
    {
     "data": {
      "image/png": "[encoded data removed]",
      "text/plain": [
       "<Figure size 432x288 with 1 Axes>"
      ]
     },
     "metadata": {},
     "output_type": "display_data"
    }
   ],
   "source": [
    "sns.countplot(cancer_df['target'],label=\"Count\")\n",
    "\n",
    "# Pie chart, where the slices will be ordered and plotted counter-clockwise:\n",
    "labels = 'benign', 'malignant'\n",
    "sizes = [35, 65]\n",
    "explode = (0, 0.1)  # only \"explode\" the 2nd slice (i.e. 'malignant')\n",
    "\n",
    "fig1, ax1 = plt.subplots()\n",
    "ax1.pie(sizes, explode=explode, labels=labels, autopct='%1.1f%%',\n",
    "        shadow=True, startangle=90)\n",
    "\n",
    "ax1.axis('equal')  # Equal aspect ratio ensures that pie is drawn as a circle.\n",
    "\n",
    "plt.show()"
   ]
  },
  {
   "cell_type": "markdown",
   "id": "6d0c08a7",
   "metadata": {},
   "source": [
    "let's do correlation matrix in this section"
   ]
  },
  {
   "cell_type": "code",
   "execution_count": 15,
   "id": "cc5f7a2b",
   "metadata": {},
   "outputs": [],
   "source": [
    "# X is consist of our features\n",
    "# drop diagnosis since we are separating labels and features \n",
    "y = cancer_df.target\n",
    "X = cancer_df.drop('target',axis = 1)"
   ]
  },
  {
   "cell_type": "markdown",
   "id": "39285c09",
   "metadata": {},
   "source": [
    "sorted heatmap, this is the first time i tried it, and it seems to me more useful than regular one, at least not complex and human readable"
   ]
  },
  {
   "cell_type": "code",
   "execution_count": 16,
   "id": "1b7b6b83",
   "metadata": {},
   "outputs": [
    {
     "data": {
      "text/plain": [
       "<AxesSubplot:>"
      ]
     },
     "execution_count": 16,
     "metadata": {},
     "output_type": "execute_result"
    },
    {
     "data": {
      "image/png": "[encoded data removed]",
      "text/plain": [
       "<Figure size 1296x1296 with 2 Axes>"
      ]
     },
     "metadata": {
      "needs_background": "light"
     },
     "output_type": "display_data"
    }
   ],
   "source": [
    "#correlation map between target(diagnosis result) and other variables\n",
    "f,ax = plt.subplots(figsize=(18, 18))\n",
    "matrix = X.corr()\n",
    "\n",
    "sns.heatmap(matrix[['worst radius']].sort_values(by=['worst radius'],ascending=False),\n",
    "            vmin=-1,\n",
    "            cmap='coolwarm',\n",
    "            annot=True)"
   ]
  },
  {
   "cell_type": "markdown",
   "id": "949796f8",
   "metadata": {},
   "source": [
    "some mean and worst columns are highly correlated. this will help predicting breast cancer or classifiying the tissues"
   ]
  },
  {
   "cell_type": "markdown",
   "id": "e17476d4",
   "metadata": {},
   "source": [
    "#### tasks in this capstone are:\n",
    "\n",
    "How to predict the breast caner\n",
    "\n",
    "Increasing in accuracy\n",
    "\n",
    "EDA and Prediction"
   ]
  },
  {
   "cell_type": "markdown",
   "id": "009ceda4",
   "metadata": {},
   "source": [
    "## additional visualizations"
   ]
  },
  {
   "cell_type": "code",
   "execution_count": 17,
   "id": "83746aab",
   "metadata": {},
   "outputs": [
    {
     "data": {
      "text/plain": [
       "Index(['mean radius', 'mean texture', 'mean perimeter', 'mean area',\n",
       "       'mean smoothness', 'mean compactness', 'mean concavity',\n",
       "       'mean concave points', 'mean symmetry', 'mean fractal dimension',\n",
       "       'radius error', 'texture error', 'perimeter error', 'area error',\n",
       "       'smoothness error', 'compactness error', 'concavity error',\n",
       "       'concave points error', 'symmetry error', 'fractal dimension error',\n",
       "       'worst radius', 'worst texture', 'worst perimeter', 'worst area',\n",
       "       'worst smoothness', 'worst compactness', 'worst concavity',\n",
       "       'worst concave points', 'worst symmetry', 'worst fractal dimension',\n",
       "       'target'],\n",
       "      dtype='object')"
      ]
     },
     "execution_count": 17,
     "metadata": {},
     "output_type": "execute_result"
    }
   ],
   "source": [
    "cancer_df.columns"
   ]
  },
  {
   "cell_type": "markdown",
   "id": "f26add18",
   "metadata": {},
   "source": [
    "Box plots succinctly compare multiple distributions and are a great way to visualize the IQR"
   ]
  },
  {
   "cell_type": "code",
   "execution_count": 18,
   "id": "1330cb84",
   "metadata": {},
   "outputs": [
    {
     "data": {
      "image/png": "[encoded data removed]",
      "text/plain": [
       "<Figure size 432x288 with 1 Axes>"
      ]
     },
     "metadata": {
      "needs_background": "light"
     },
     "output_type": "display_data"
    },
    {
     "data": {
      "image/png": "[encoded data removed]",
      "text/plain": [
       "<Figure size 432x288 with 1 Axes>"
      ]
     },
     "metadata": {
      "needs_background": "light"
     },
     "output_type": "display_data"
    }
   ],
   "source": [
    "# create boxplots for texture mean vs diagnosis of tumor\n",
    "plt.subplot(1, 2, 1)\n",
    "sns.boxplot(x='target', y='mean texture', data=cancer_df, showfliers=False)\n",
    "plt.title('Graph of texture mean vs diagnosis of tumor')\n",
    "plt.show()\n",
    "\n",
    "plt.subplot(1, 2, 2)\n",
    "sns.barplot(x=\"target\", y=\"worst compactness\", data=cancer_df)\n",
    "plt.title('diagnosis vs worst compactness',fontsize=15)\n",
    "plt.xlabel('diagnosis')\n",
    "plt.ylabel('worst compactness')\n",
    "\n",
    "plt.style.use(\"ggplot\")\n",
    "plt.show()\n"
   ]
  },
  {
   "cell_type": "markdown",
   "id": "300db328",
   "metadata": {},
   "source": [
    "boxplot all mean columns. again for practice, i learned lots of thing while doing this.\n",
    "\n",
    "The box extends from the Q1 to Q3 quartile values of the data, with a line at the median (Q2). plot mean columns vs diagnosis, in total 10 column figures:"
   ]
  },
  {
   "cell_type": "code",
   "execution_count": 19,
   "id": "77fa14e3",
   "metadata": {},
   "outputs": [
    {
     "data": {
      "image/png": "[encoded data removed]",
      "text/plain": [
       "<Figure size 1224x72 with 1 Axes>"
      ]
     },
     "metadata": {},
     "output_type": "display_data"
    },
    {
     "data": {
      "image/png": "[encoded data removed]",
      "text/plain": [
       "<Figure size 1224x72 with 1 Axes>"
      ]
     },
     "metadata": {},
     "output_type": "display_data"
    },
    {
     "data": {
      "image/png": "[encoded data removed]",
      "text/plain": [
       "<Figure size 1224x72 with 1 Axes>"
      ]
     },
     "metadata": {},
     "output_type": "display_data"
    },
    {
     "data": {
      "image/png": "[encoded data removed]",
      "text/plain": [
       "<Figure size 1224x72 with 1 Axes>"
      ]
     },
     "metadata": {},
     "output_type": "display_data"
    },
    {
     "data": {
      "image/png": "[encoded data removed]",
      "text/plain": [
       "<Figure size 1224x72 with 1 Axes>"
      ]
     },
     "metadata": {},
     "output_type": "display_data"
    },
    {
     "data": {
      "image/png": "[encoded data removed]",
      "text/plain": [
       "<Figure size 1224x72 with 1 Axes>"
      ]
     },
     "metadata": {},
     "output_type": "display_data"
    },
    {
     "data": {
      "image/png": "[encoded data removed]",
      "text/plain": [
       "<Figure size 1224x72 with 1 Axes>"
      ]
     },
     "metadata": {},
     "output_type": "display_data"
    },
    {
     "data": {
      "image/png": "[encoded data removed]",
      "text/plain": [
       "<Figure size 1224x72 with 1 Axes>"
      ]
     },
     "metadata": {},
     "output_type": "display_data"
    },
    {
     "data": {
      "image/png": "[encoded data removed]",
      "text/plain": [
       "<Figure size 1224x72 with 1 Axes>"
      ]
     },
     "metadata": {},
     "output_type": "display_data"
    },
    {
     "data": {
      "image/png": "[encoded data removed]",
      "text/plain": [
       "<Figure size 1224x72 with 1 Axes>"
      ]
     },
     "metadata": {},
     "output_type": "display_data"
    }
   ],
   "source": [
    "sns.set_theme(style=\"whitegrid\")\n",
    "\n",
    "for column in cancer_df[means]:\n",
    "        plt.figure(figsize=(17,1))\n",
    "        sns.boxplot(x=column, y='target',orient='h',data=cancer_df)\n"
   ]
  },
  {
   "cell_type": "code",
   "execution_count": 20,
   "id": "067cfd76",
   "metadata": {},
   "outputs": [
    {
     "data": {
      "text/plain": [
       "Text(0.5, 1.0, 'Graph of texture mean vs diagnosis of tumor')"
      ]
     },
     "execution_count": 20,
     "metadata": {},
     "output_type": "execute_result"
    },
    {
     "data": {
      "image/png": "[encoded data removed]",
      "text/plain": [
       "<Figure size 432x288 with 1 Axes>"
      ]
     },
     "metadata": {},
     "output_type": "display_data"
    }
   ],
   "source": [
    "# create boxplots for texture mean vs diagnosis of tumor\n",
    "plot = sns.boxplot(x='target', y='worst perimeter', data=cancer_df, showfliers=False)\n",
    "plot.set_title('Graph of texture mean vs diagnosis of tumor')"
   ]
  },
  {
   "cell_type": "markdown",
   "id": "accdaddd",
   "metadata": {},
   "source": [
    "mean columns histograms of cancer data might give some opinions"
   ]
  },
  {
   "cell_type": "code",
   "execution_count": 21,
   "id": "cb17e489",
   "metadata": {},
   "outputs": [
    {
     "data": {
      "image/png": "[encoded data removed]",
      "text/plain": [
       "<Figure size 1080x1080 with 12 Axes>"
      ]
     },
     "metadata": {},
     "output_type": "display_data"
    }
   ],
   "source": [
    "cancer_df[means].hist(bins=30, figsize=(15, 15))\n",
    "plt.tight_layout()"
   ]
  },
  {
   "cell_type": "markdown",
   "id": "4181c4ab",
   "metadata": {},
   "source": [
    "distribution plot of errors also might give hints about our data"
   ]
  },
  {
   "cell_type": "code",
   "execution_count": 22,
   "id": "8898a39e",
   "metadata": {
    "scrolled": true
   },
   "outputs": [
    {
     "data": {
      "image/png": "[encoded data removed]",
      "text/plain": [
       "<Figure size 1080x720 with 12 Axes>"
      ]
     },
     "metadata": {},
     "output_type": "display_data"
    }
   ],
   "source": [
    "n_rows=4\n",
    "n_cols=3\n",
    "# Create the subplots\n",
    "fig, axes = plt.subplots(nrows=n_rows, ncols=n_cols,figsize=(15, 10))\n",
    "\n",
    "for i, column in enumerate(cancer_df[errors].columns):\n",
    "    sns.distplot(cancer_df[column],ax=axes[i//n_cols,i%n_cols])\n",
    "\n",
    "plt.tight_layout()"
   ]
  },
  {
   "cell_type": "markdown",
   "id": "b27c8f34",
   "metadata": {},
   "source": [
    "t test tells us he t test tells us how significant the differences between groups are; In other words it lets us know if those differences (measured in means) could have happened by chance"
   ]
  },
  {
   "cell_type": "code",
   "execution_count": 23,
   "id": "64620451",
   "metadata": {
    "scrolled": true
   },
   "outputs": [
    {
     "data": {
      "text/plain": [
       "[array([25.43582161, 10.86720108, 26.40521298, 23.93868724,  9.14609881,\n",
       "        17.69839198, 23.10396343, 29.35431859,  8.33831179, -0.30571113,\n",
       "        16.39635103, -0.1977238 , 15.93415802, 15.6093429 , -1.59936481,\n",
       "         7.29707744,  6.24615734, 10.64249782, -0.1552978 ,  1.86233046,\n",
       "        29.33908156, 12.23098135, 29.96571739, 25.72159026, 11.06674661,\n",
       "        17.44537368, 20.89717539, 31.05455512, 10.90230398,  8.1513165 ]),\n",
       " array([8.46594057e-096, 4.05863605e-025, 8.43625104e-101, 4.73456431e-088,\n",
       "        1.05185036e-018, 3.93826311e-056, 9.96655576e-084, 7.10115016e-116,\n",
       "        5.73338403e-016, 7.59936804e-001, 9.73894866e-050, 8.43332029e-001,\n",
       "        1.65190518e-047, 5.89552139e-046, 1.10296609e-001, 9.97599465e-013,\n",
       "        8.26017617e-010, 3.07230877e-024, 8.76641818e-001, 6.30735508e-002,\n",
       "        8.48229192e-116, 1.07805749e-030, 5.77139714e-119, 2.82884770e-097,\n",
       "        6.57514363e-026, 7.06981635e-055, 2.46466396e-072, 1.96909971e-124,\n",
       "        2.95112058e-025, 2.31643245e-015])]"
      ]
     },
     "execution_count": 23,
     "metadata": {},
     "output_type": "execute_result"
    }
   ],
   "source": [
    "# make a new dataframe with only the desired feature for t test  \n",
    "new = pd.DataFrame(data=cancer_df)\n",
    "new_d = new.set_index('target')\n",
    "list(stats.ttest_ind(new_d.loc[0], new_d.loc[1]))"
   ]
  },
  {
   "cell_type": "markdown",
   "id": "86bcf9ff",
   "metadata": {},
   "source": [
    "first 'array' is statistics and second 'array' is p-value every column vs target(diagnosis result). except one column which has \"7.59936804e-001\" p value(higher than 5), all other columns reject null hypotesis. Except that column, the p value and t statistic is statistically significant for all the features in the table above"
   ]
  },
  {
   "cell_type": "code",
   "execution_count": 48,
   "id": "11ae391d",
   "metadata": {},
   "outputs": [
    {
     "data": {
      "text/html": [
       "<div>\n",
       "<style scoped>\n",
       "    .dataframe tbody tr th:only-of-type {\n",
       "        vertical-align: middle;\n",
       "    }\n",
       "\n",
       "    .dataframe tbody tr th {\n",
       "        vertical-align: top;\n",
       "    }\n",
       "\n",
       "    .dataframe thead th {\n",
       "        text-align: right;\n",
       "    }\n",
       "</style>\n",
       "<table border=\"1\" class=\"dataframe\">\n",
       "  <thead>\n",
       "    <tr style=\"text-align: right;\">\n",
       "      <th></th>\n",
       "      <th>mean radius</th>\n",
       "      <th>mean texture</th>\n",
       "      <th>mean perimeter</th>\n",
       "      <th>mean area</th>\n",
       "      <th>mean smoothness</th>\n",
       "      <th>mean compactness</th>\n",
       "      <th>mean concavity</th>\n",
       "      <th>mean concave points</th>\n",
       "      <th>mean symmetry</th>\n",
       "      <th>mean fractal dimension</th>\n",
       "      <th>...</th>\n",
       "      <th>worst radius</th>\n",
       "      <th>worst texture</th>\n",
       "      <th>worst perimeter</th>\n",
       "      <th>worst area</th>\n",
       "      <th>worst smoothness</th>\n",
       "      <th>worst compactness</th>\n",
       "      <th>worst concavity</th>\n",
       "      <th>worst concave points</th>\n",
       "      <th>worst symmetry</th>\n",
       "      <th>worst fractal dimension</th>\n",
       "    </tr>\n",
       "  </thead>\n",
       "  <tbody>\n",
       "    <tr>\n",
       "      <th>mean radius</th>\n",
       "      <td>NaN</td>\n",
       "      <td>0.323782</td>\n",
       "      <td>0.997855</td>\n",
       "      <td>0.987357</td>\n",
       "      <td>0.170581</td>\n",
       "      <td>0.506124</td>\n",
       "      <td>0.676764</td>\n",
       "      <td>0.822529</td>\n",
       "      <td>0.147741</td>\n",
       "      <td>0.311631</td>\n",
       "      <td>...</td>\n",
       "      <td>0.969539</td>\n",
       "      <td>0.297008</td>\n",
       "      <td>0.965137</td>\n",
       "      <td>0.941082</td>\n",
       "      <td>0.119616</td>\n",
       "      <td>0.413463</td>\n",
       "      <td>0.526911</td>\n",
       "      <td>0.744214</td>\n",
       "      <td>0.163953</td>\n",
       "      <td>0.007066</td>\n",
       "    </tr>\n",
       "    <tr>\n",
       "      <th>mean texture</th>\n",
       "      <td>NaN</td>\n",
       "      <td>NaN</td>\n",
       "      <td>0.329533</td>\n",
       "      <td>0.321086</td>\n",
       "      <td>0.023389</td>\n",
       "      <td>0.236702</td>\n",
       "      <td>0.302418</td>\n",
       "      <td>0.293464</td>\n",
       "      <td>0.071401</td>\n",
       "      <td>0.076437</td>\n",
       "      <td>...</td>\n",
       "      <td>0.352573</td>\n",
       "      <td>0.912045</td>\n",
       "      <td>0.358040</td>\n",
       "      <td>0.343546</td>\n",
       "      <td>0.077503</td>\n",
       "      <td>0.277830</td>\n",
       "      <td>0.301025</td>\n",
       "      <td>0.295316</td>\n",
       "      <td>0.105008</td>\n",
       "      <td>0.119205</td>\n",
       "    </tr>\n",
       "    <tr>\n",
       "      <th>mean perimeter</th>\n",
       "      <td>NaN</td>\n",
       "      <td>NaN</td>\n",
       "      <td>NaN</td>\n",
       "      <td>0.986507</td>\n",
       "      <td>0.207278</td>\n",
       "      <td>0.556936</td>\n",
       "      <td>0.716136</td>\n",
       "      <td>0.850977</td>\n",
       "      <td>0.183027</td>\n",
       "      <td>0.261477</td>\n",
       "      <td>...</td>\n",
       "      <td>0.969476</td>\n",
       "      <td>0.303038</td>\n",
       "      <td>0.970387</td>\n",
       "      <td>0.941550</td>\n",
       "      <td>0.150549</td>\n",
       "      <td>0.455774</td>\n",
       "      <td>0.563879</td>\n",
       "      <td>0.771241</td>\n",
       "      <td>0.189115</td>\n",
       "      <td>0.051019</td>\n",
       "    </tr>\n",
       "    <tr>\n",
       "      <th>mean area</th>\n",
       "      <td>NaN</td>\n",
       "      <td>NaN</td>\n",
       "      <td>NaN</td>\n",
       "      <td>NaN</td>\n",
       "      <td>0.177028</td>\n",
       "      <td>0.498502</td>\n",
       "      <td>0.685983</td>\n",
       "      <td>0.823269</td>\n",
       "      <td>0.151293</td>\n",
       "      <td>0.283110</td>\n",
       "      <td>...</td>\n",
       "      <td>0.962746</td>\n",
       "      <td>0.287489</td>\n",
       "      <td>0.959120</td>\n",
       "      <td>0.959213</td>\n",
       "      <td>0.123523</td>\n",
       "      <td>0.390410</td>\n",
       "      <td>0.512606</td>\n",
       "      <td>0.722017</td>\n",
       "      <td>0.143570</td>\n",
       "      <td>0.003738</td>\n",
       "    </tr>\n",
       "    <tr>\n",
       "      <th>mean smoothness</th>\n",
       "      <td>NaN</td>\n",
       "      <td>NaN</td>\n",
       "      <td>NaN</td>\n",
       "      <td>NaN</td>\n",
       "      <td>NaN</td>\n",
       "      <td>0.659123</td>\n",
       "      <td>0.521984</td>\n",
       "      <td>0.553695</td>\n",
       "      <td>0.557775</td>\n",
       "      <td>0.584792</td>\n",
       "      <td>...</td>\n",
       "      <td>0.213120</td>\n",
       "      <td>0.036072</td>\n",
       "      <td>0.238853</td>\n",
       "      <td>0.206718</td>\n",
       "      <td>0.805324</td>\n",
       "      <td>0.472468</td>\n",
       "      <td>0.434926</td>\n",
       "      <td>0.503053</td>\n",
       "      <td>0.394309</td>\n",
       "      <td>0.499316</td>\n",
       "    </tr>\n",
       "    <tr>\n",
       "      <th>mean compactness</th>\n",
       "      <td>NaN</td>\n",
       "      <td>NaN</td>\n",
       "      <td>NaN</td>\n",
       "      <td>NaN</td>\n",
       "      <td>NaN</td>\n",
       "      <td>NaN</td>\n",
       "      <td>0.883121</td>\n",
       "      <td>0.831135</td>\n",
       "      <td>0.602641</td>\n",
       "      <td>0.565369</td>\n",
       "      <td>...</td>\n",
       "      <td>0.535315</td>\n",
       "      <td>0.248133</td>\n",
       "      <td>0.590210</td>\n",
       "      <td>0.509604</td>\n",
       "      <td>0.565541</td>\n",
       "      <td>0.865809</td>\n",
       "      <td>0.816275</td>\n",
       "      <td>0.815573</td>\n",
       "      <td>0.510223</td>\n",
       "      <td>0.687382</td>\n",
       "    </tr>\n",
       "    <tr>\n",
       "      <th>mean concavity</th>\n",
       "      <td>NaN</td>\n",
       "      <td>NaN</td>\n",
       "      <td>NaN</td>\n",
       "      <td>NaN</td>\n",
       "      <td>NaN</td>\n",
       "      <td>NaN</td>\n",
       "      <td>NaN</td>\n",
       "      <td>0.921391</td>\n",
       "      <td>0.500667</td>\n",
       "      <td>0.336783</td>\n",
       "      <td>...</td>\n",
       "      <td>0.688236</td>\n",
       "      <td>0.299879</td>\n",
       "      <td>0.729565</td>\n",
       "      <td>0.675987</td>\n",
       "      <td>0.448822</td>\n",
       "      <td>0.754968</td>\n",
       "      <td>0.884103</td>\n",
       "      <td>0.861323</td>\n",
       "      <td>0.409464</td>\n",
       "      <td>0.514930</td>\n",
       "    </tr>\n",
       "    <tr>\n",
       "      <th>mean concave points</th>\n",
       "      <td>NaN</td>\n",
       "      <td>NaN</td>\n",
       "      <td>NaN</td>\n",
       "      <td>NaN</td>\n",
       "      <td>NaN</td>\n",
       "      <td>NaN</td>\n",
       "      <td>NaN</td>\n",
       "      <td>NaN</td>\n",
       "      <td>0.462497</td>\n",
       "      <td>0.166917</td>\n",
       "      <td>...</td>\n",
       "      <td>0.830318</td>\n",
       "      <td>0.292752</td>\n",
       "      <td>0.855923</td>\n",
       "      <td>0.809630</td>\n",
       "      <td>0.452753</td>\n",
       "      <td>0.667454</td>\n",
       "      <td>0.752399</td>\n",
       "      <td>0.910155</td>\n",
       "      <td>0.375744</td>\n",
       "      <td>0.368661</td>\n",
       "    </tr>\n",
       "    <tr>\n",
       "      <th>mean symmetry</th>\n",
       "      <td>NaN</td>\n",
       "      <td>NaN</td>\n",
       "      <td>NaN</td>\n",
       "      <td>NaN</td>\n",
       "      <td>NaN</td>\n",
       "      <td>NaN</td>\n",
       "      <td>NaN</td>\n",
       "      <td>NaN</td>\n",
       "      <td>NaN</td>\n",
       "      <td>0.479921</td>\n",
       "      <td>...</td>\n",
       "      <td>0.185728</td>\n",
       "      <td>0.090651</td>\n",
       "      <td>0.219169</td>\n",
       "      <td>0.177193</td>\n",
       "      <td>0.426675</td>\n",
       "      <td>0.473200</td>\n",
       "      <td>0.433721</td>\n",
       "      <td>0.430297</td>\n",
       "      <td>0.699826</td>\n",
       "      <td>0.438413</td>\n",
       "    </tr>\n",
       "    <tr>\n",
       "      <th>mean fractal dimension</th>\n",
       "      <td>NaN</td>\n",
       "      <td>NaN</td>\n",
       "      <td>NaN</td>\n",
       "      <td>NaN</td>\n",
       "      <td>NaN</td>\n",
       "      <td>NaN</td>\n",
       "      <td>NaN</td>\n",
       "      <td>NaN</td>\n",
       "      <td>NaN</td>\n",
       "      <td>NaN</td>\n",
       "      <td>...</td>\n",
       "      <td>0.253691</td>\n",
       "      <td>0.051269</td>\n",
       "      <td>0.205151</td>\n",
       "      <td>0.231854</td>\n",
       "      <td>0.504942</td>\n",
       "      <td>0.458798</td>\n",
       "      <td>0.346234</td>\n",
       "      <td>0.175325</td>\n",
       "      <td>0.334019</td>\n",
       "      <td>0.767297</td>\n",
       "    </tr>\n",
       "    <tr>\n",
       "      <th>radius error</th>\n",
       "      <td>NaN</td>\n",
       "      <td>NaN</td>\n",
       "      <td>NaN</td>\n",
       "      <td>NaN</td>\n",
       "      <td>NaN</td>\n",
       "      <td>NaN</td>\n",
       "      <td>NaN</td>\n",
       "      <td>NaN</td>\n",
       "      <td>NaN</td>\n",
       "      <td>NaN</td>\n",
       "      <td>...</td>\n",
       "      <td>0.715065</td>\n",
       "      <td>0.194799</td>\n",
       "      <td>0.719684</td>\n",
       "      <td>0.751548</td>\n",
       "      <td>0.141919</td>\n",
       "      <td>0.287103</td>\n",
       "      <td>0.380585</td>\n",
       "      <td>0.531062</td>\n",
       "      <td>0.094543</td>\n",
       "      <td>0.049559</td>\n",
       "    </tr>\n",
       "    <tr>\n",
       "      <th>texture error</th>\n",
       "      <td>NaN</td>\n",
       "      <td>NaN</td>\n",
       "      <td>NaN</td>\n",
       "      <td>NaN</td>\n",
       "      <td>NaN</td>\n",
       "      <td>NaN</td>\n",
       "      <td>NaN</td>\n",
       "      <td>NaN</td>\n",
       "      <td>NaN</td>\n",
       "      <td>NaN</td>\n",
       "      <td>...</td>\n",
       "      <td>0.111690</td>\n",
       "      <td>0.409003</td>\n",
       "      <td>0.102242</td>\n",
       "      <td>0.083195</td>\n",
       "      <td>0.073658</td>\n",
       "      <td>0.092439</td>\n",
       "      <td>0.068956</td>\n",
       "      <td>0.119638</td>\n",
       "      <td>0.128215</td>\n",
       "      <td>0.045655</td>\n",
       "    </tr>\n",
       "    <tr>\n",
       "      <th>perimeter error</th>\n",
       "      <td>NaN</td>\n",
       "      <td>NaN</td>\n",
       "      <td>NaN</td>\n",
       "      <td>NaN</td>\n",
       "      <td>NaN</td>\n",
       "      <td>NaN</td>\n",
       "      <td>NaN</td>\n",
       "      <td>NaN</td>\n",
       "      <td>NaN</td>\n",
       "      <td>NaN</td>\n",
       "      <td>...</td>\n",
       "      <td>0.697201</td>\n",
       "      <td>0.200371</td>\n",
       "      <td>0.721031</td>\n",
       "      <td>0.730713</td>\n",
       "      <td>0.130054</td>\n",
       "      <td>0.341919</td>\n",
       "      <td>0.418899</td>\n",
       "      <td>0.554897</td>\n",
       "      <td>0.109930</td>\n",
       "      <td>0.085433</td>\n",
       "    </tr>\n",
       "    <tr>\n",
       "      <th>area error</th>\n",
       "      <td>NaN</td>\n",
       "      <td>NaN</td>\n",
       "      <td>NaN</td>\n",
       "      <td>NaN</td>\n",
       "      <td>NaN</td>\n",
       "      <td>NaN</td>\n",
       "      <td>NaN</td>\n",
       "      <td>NaN</td>\n",
       "      <td>NaN</td>\n",
       "      <td>NaN</td>\n",
       "      <td>...</td>\n",
       "      <td>0.757373</td>\n",
       "      <td>0.196497</td>\n",
       "      <td>0.761213</td>\n",
       "      <td>0.811408</td>\n",
       "      <td>0.125389</td>\n",
       "      <td>0.283257</td>\n",
       "      <td>0.385100</td>\n",
       "      <td>0.538166</td>\n",
       "      <td>0.074126</td>\n",
       "      <td>0.017539</td>\n",
       "    </tr>\n",
       "    <tr>\n",
       "      <th>smoothness error</th>\n",
       "      <td>NaN</td>\n",
       "      <td>NaN</td>\n",
       "      <td>NaN</td>\n",
       "      <td>NaN</td>\n",
       "      <td>NaN</td>\n",
       "      <td>NaN</td>\n",
       "      <td>NaN</td>\n",
       "      <td>NaN</td>\n",
       "      <td>NaN</td>\n",
       "      <td>NaN</td>\n",
       "      <td>...</td>\n",
       "      <td>0.230691</td>\n",
       "      <td>0.074743</td>\n",
       "      <td>0.217304</td>\n",
       "      <td>0.182195</td>\n",
       "      <td>0.314457</td>\n",
       "      <td>0.055558</td>\n",
       "      <td>0.058298</td>\n",
       "      <td>0.102007</td>\n",
       "      <td>0.107342</td>\n",
       "      <td>0.101480</td>\n",
       "    </tr>\n",
       "    <tr>\n",
       "      <th>compactness error</th>\n",
       "      <td>NaN</td>\n",
       "      <td>NaN</td>\n",
       "      <td>NaN</td>\n",
       "      <td>NaN</td>\n",
       "      <td>NaN</td>\n",
       "      <td>NaN</td>\n",
       "      <td>NaN</td>\n",
       "      <td>NaN</td>\n",
       "      <td>NaN</td>\n",
       "      <td>NaN</td>\n",
       "      <td>...</td>\n",
       "      <td>0.204607</td>\n",
       "      <td>0.143003</td>\n",
       "      <td>0.260516</td>\n",
       "      <td>0.199371</td>\n",
       "      <td>0.227394</td>\n",
       "      <td>0.678780</td>\n",
       "      <td>0.639147</td>\n",
       "      <td>0.483208</td>\n",
       "      <td>0.277878</td>\n",
       "      <td>0.590973</td>\n",
       "    </tr>\n",
       "    <tr>\n",
       "      <th>concavity error</th>\n",
       "      <td>NaN</td>\n",
       "      <td>NaN</td>\n",
       "      <td>NaN</td>\n",
       "      <td>NaN</td>\n",
       "      <td>NaN</td>\n",
       "      <td>NaN</td>\n",
       "      <td>NaN</td>\n",
       "      <td>NaN</td>\n",
       "      <td>NaN</td>\n",
       "      <td>NaN</td>\n",
       "      <td>...</td>\n",
       "      <td>0.186904</td>\n",
       "      <td>0.100241</td>\n",
       "      <td>0.226680</td>\n",
       "      <td>0.188353</td>\n",
       "      <td>0.168481</td>\n",
       "      <td>0.484858</td>\n",
       "      <td>0.662564</td>\n",
       "      <td>0.440472</td>\n",
       "      <td>0.197788</td>\n",
       "      <td>0.439329</td>\n",
       "    </tr>\n",
       "    <tr>\n",
       "      <th>concave points error</th>\n",
       "      <td>NaN</td>\n",
       "      <td>NaN</td>\n",
       "      <td>NaN</td>\n",
       "      <td>NaN</td>\n",
       "      <td>NaN</td>\n",
       "      <td>NaN</td>\n",
       "      <td>NaN</td>\n",
       "      <td>NaN</td>\n",
       "      <td>NaN</td>\n",
       "      <td>NaN</td>\n",
       "      <td>...</td>\n",
       "      <td>0.358127</td>\n",
       "      <td>0.086741</td>\n",
       "      <td>0.394999</td>\n",
       "      <td>0.342271</td>\n",
       "      <td>0.215351</td>\n",
       "      <td>0.452888</td>\n",
       "      <td>0.549592</td>\n",
       "      <td>0.602450</td>\n",
       "      <td>0.143116</td>\n",
       "      <td>0.310655</td>\n",
       "    </tr>\n",
       "    <tr>\n",
       "      <th>symmetry error</th>\n",
       "      <td>NaN</td>\n",
       "      <td>NaN</td>\n",
       "      <td>NaN</td>\n",
       "      <td>NaN</td>\n",
       "      <td>NaN</td>\n",
       "      <td>NaN</td>\n",
       "      <td>NaN</td>\n",
       "      <td>NaN</td>\n",
       "      <td>NaN</td>\n",
       "      <td>NaN</td>\n",
       "      <td>...</td>\n",
       "      <td>0.128121</td>\n",
       "      <td>0.077473</td>\n",
       "      <td>0.103753</td>\n",
       "      <td>0.110343</td>\n",
       "      <td>0.012662</td>\n",
       "      <td>0.060255</td>\n",
       "      <td>0.037119</td>\n",
       "      <td>0.030413</td>\n",
       "      <td>0.389402</td>\n",
       "      <td>0.078079</td>\n",
       "    </tr>\n",
       "    <tr>\n",
       "      <th>fractal dimension error</th>\n",
       "      <td>NaN</td>\n",
       "      <td>NaN</td>\n",
       "      <td>NaN</td>\n",
       "      <td>NaN</td>\n",
       "      <td>NaN</td>\n",
       "      <td>NaN</td>\n",
       "      <td>NaN</td>\n",
       "      <td>NaN</td>\n",
       "      <td>NaN</td>\n",
       "      <td>NaN</td>\n",
       "      <td>...</td>\n",
       "      <td>0.037488</td>\n",
       "      <td>0.003195</td>\n",
       "      <td>0.001000</td>\n",
       "      <td>0.022736</td>\n",
       "      <td>0.170568</td>\n",
       "      <td>0.390159</td>\n",
       "      <td>0.379975</td>\n",
       "      <td>0.215204</td>\n",
       "      <td>0.111094</td>\n",
       "      <td>0.591328</td>\n",
       "    </tr>\n",
       "    <tr>\n",
       "      <th>worst radius</th>\n",
       "      <td>NaN</td>\n",
       "      <td>NaN</td>\n",
       "      <td>NaN</td>\n",
       "      <td>NaN</td>\n",
       "      <td>NaN</td>\n",
       "      <td>NaN</td>\n",
       "      <td>NaN</td>\n",
       "      <td>NaN</td>\n",
       "      <td>NaN</td>\n",
       "      <td>NaN</td>\n",
       "      <td>...</td>\n",
       "      <td>NaN</td>\n",
       "      <td>0.359921</td>\n",
       "      <td>0.993708</td>\n",
       "      <td>0.984015</td>\n",
       "      <td>0.216574</td>\n",
       "      <td>0.475820</td>\n",
       "      <td>0.573975</td>\n",
       "      <td>0.787424</td>\n",
       "      <td>0.243529</td>\n",
       "      <td>0.093492</td>\n",
       "    </tr>\n",
       "    <tr>\n",
       "      <th>worst texture</th>\n",
       "      <td>NaN</td>\n",
       "      <td>NaN</td>\n",
       "      <td>NaN</td>\n",
       "      <td>NaN</td>\n",
       "      <td>NaN</td>\n",
       "      <td>NaN</td>\n",
       "      <td>NaN</td>\n",
       "      <td>NaN</td>\n",
       "      <td>NaN</td>\n",
       "      <td>NaN</td>\n",
       "      <td>...</td>\n",
       "      <td>NaN</td>\n",
       "      <td>NaN</td>\n",
       "      <td>0.365098</td>\n",
       "      <td>0.345842</td>\n",
       "      <td>0.225429</td>\n",
       "      <td>0.360832</td>\n",
       "      <td>0.368366</td>\n",
       "      <td>0.359755</td>\n",
       "      <td>0.233027</td>\n",
       "      <td>0.219122</td>\n",
       "    </tr>\n",
       "    <tr>\n",
       "      <th>worst perimeter</th>\n",
       "      <td>NaN</td>\n",
       "      <td>NaN</td>\n",
       "      <td>NaN</td>\n",
       "      <td>NaN</td>\n",
       "      <td>NaN</td>\n",
       "      <td>NaN</td>\n",
       "      <td>NaN</td>\n",
       "      <td>NaN</td>\n",
       "      <td>NaN</td>\n",
       "      <td>NaN</td>\n",
       "      <td>...</td>\n",
       "      <td>NaN</td>\n",
       "      <td>NaN</td>\n",
       "      <td>NaN</td>\n",
       "      <td>0.977578</td>\n",
       "      <td>0.236775</td>\n",
       "      <td>0.529408</td>\n",
       "      <td>0.618344</td>\n",
       "      <td>0.816322</td>\n",
       "      <td>0.269493</td>\n",
       "      <td>0.138957</td>\n",
       "    </tr>\n",
       "    <tr>\n",
       "      <th>worst area</th>\n",
       "      <td>NaN</td>\n",
       "      <td>NaN</td>\n",
       "      <td>NaN</td>\n",
       "      <td>NaN</td>\n",
       "      <td>NaN</td>\n",
       "      <td>NaN</td>\n",
       "      <td>NaN</td>\n",
       "      <td>NaN</td>\n",
       "      <td>NaN</td>\n",
       "      <td>NaN</td>\n",
       "      <td>...</td>\n",
       "      <td>NaN</td>\n",
       "      <td>NaN</td>\n",
       "      <td>NaN</td>\n",
       "      <td>NaN</td>\n",
       "      <td>0.209145</td>\n",
       "      <td>0.438296</td>\n",
       "      <td>0.543331</td>\n",
       "      <td>0.747419</td>\n",
       "      <td>0.209146</td>\n",
       "      <td>0.079647</td>\n",
       "    </tr>\n",
       "    <tr>\n",
       "      <th>worst smoothness</th>\n",
       "      <td>NaN</td>\n",
       "      <td>NaN</td>\n",
       "      <td>NaN</td>\n",
       "      <td>NaN</td>\n",
       "      <td>NaN</td>\n",
       "      <td>NaN</td>\n",
       "      <td>NaN</td>\n",
       "      <td>NaN</td>\n",
       "      <td>NaN</td>\n",
       "      <td>NaN</td>\n",
       "      <td>...</td>\n",
       "      <td>NaN</td>\n",
       "      <td>NaN</td>\n",
       "      <td>NaN</td>\n",
       "      <td>NaN</td>\n",
       "      <td>NaN</td>\n",
       "      <td>0.568187</td>\n",
       "      <td>0.518523</td>\n",
       "      <td>0.547691</td>\n",
       "      <td>0.493838</td>\n",
       "      <td>0.617624</td>\n",
       "    </tr>\n",
       "    <tr>\n",
       "      <th>worst compactness</th>\n",
       "      <td>NaN</td>\n",
       "      <td>NaN</td>\n",
       "      <td>NaN</td>\n",
       "      <td>NaN</td>\n",
       "      <td>NaN</td>\n",
       "      <td>NaN</td>\n",
       "      <td>NaN</td>\n",
       "      <td>NaN</td>\n",
       "      <td>NaN</td>\n",
       "      <td>NaN</td>\n",
       "      <td>...</td>\n",
       "      <td>NaN</td>\n",
       "      <td>NaN</td>\n",
       "      <td>NaN</td>\n",
       "      <td>NaN</td>\n",
       "      <td>NaN</td>\n",
       "      <td>NaN</td>\n",
       "      <td>0.892261</td>\n",
       "      <td>0.801080</td>\n",
       "      <td>0.614441</td>\n",
       "      <td>0.810455</td>\n",
       "    </tr>\n",
       "    <tr>\n",
       "      <th>worst concavity</th>\n",
       "      <td>NaN</td>\n",
       "      <td>NaN</td>\n",
       "      <td>NaN</td>\n",
       "      <td>NaN</td>\n",
       "      <td>NaN</td>\n",
       "      <td>NaN</td>\n",
       "      <td>NaN</td>\n",
       "      <td>NaN</td>\n",
       "      <td>NaN</td>\n",
       "      <td>NaN</td>\n",
       "      <td>...</td>\n",
       "      <td>NaN</td>\n",
       "      <td>NaN</td>\n",
       "      <td>NaN</td>\n",
       "      <td>NaN</td>\n",
       "      <td>NaN</td>\n",
       "      <td>NaN</td>\n",
       "      <td>NaN</td>\n",
       "      <td>0.855434</td>\n",
       "      <td>0.532520</td>\n",
       "      <td>0.686511</td>\n",
       "    </tr>\n",
       "    <tr>\n",
       "      <th>worst concave points</th>\n",
       "      <td>NaN</td>\n",
       "      <td>NaN</td>\n",
       "      <td>NaN</td>\n",
       "      <td>NaN</td>\n",
       "      <td>NaN</td>\n",
       "      <td>NaN</td>\n",
       "      <td>NaN</td>\n",
       "      <td>NaN</td>\n",
       "      <td>NaN</td>\n",
       "      <td>NaN</td>\n",
       "      <td>...</td>\n",
       "      <td>NaN</td>\n",
       "      <td>NaN</td>\n",
       "      <td>NaN</td>\n",
       "      <td>NaN</td>\n",
       "      <td>NaN</td>\n",
       "      <td>NaN</td>\n",
       "      <td>NaN</td>\n",
       "      <td>NaN</td>\n",
       "      <td>0.502528</td>\n",
       "      <td>0.511114</td>\n",
       "    </tr>\n",
       "    <tr>\n",
       "      <th>worst symmetry</th>\n",
       "      <td>NaN</td>\n",
       "      <td>NaN</td>\n",
       "      <td>NaN</td>\n",
       "      <td>NaN</td>\n",
       "      <td>NaN</td>\n",
       "      <td>NaN</td>\n",
       "      <td>NaN</td>\n",
       "      <td>NaN</td>\n",
       "      <td>NaN</td>\n",
       "      <td>NaN</td>\n",
       "      <td>...</td>\n",
       "      <td>NaN</td>\n",
       "      <td>NaN</td>\n",
       "      <td>NaN</td>\n",
       "      <td>NaN</td>\n",
       "      <td>NaN</td>\n",
       "      <td>NaN</td>\n",
       "      <td>NaN</td>\n",
       "      <td>NaN</td>\n",
       "      <td>NaN</td>\n",
       "      <td>0.537848</td>\n",
       "    </tr>\n",
       "    <tr>\n",
       "      <th>worst fractal dimension</th>\n",
       "      <td>NaN</td>\n",
       "      <td>NaN</td>\n",
       "      <td>NaN</td>\n",
       "      <td>NaN</td>\n",
       "      <td>NaN</td>\n",
       "      <td>NaN</td>\n",
       "      <td>NaN</td>\n",
       "      <td>NaN</td>\n",
       "      <td>NaN</td>\n",
       "      <td>NaN</td>\n",
       "      <td>...</td>\n",
       "      <td>NaN</td>\n",
       "      <td>NaN</td>\n",
       "      <td>NaN</td>\n",
       "      <td>NaN</td>\n",
       "      <td>NaN</td>\n",
       "      <td>NaN</td>\n",
       "      <td>NaN</td>\n",
       "      <td>NaN</td>\n",
       "      <td>NaN</td>\n",
       "      <td>NaN</td>\n",
       "    </tr>\n",
       "  </tbody>\n",
       "</table>\n",
       "<p>30 rows × 30 columns</p>\n",
       "</div>"
      ],
      "text/plain": [
       "                         mean radius  mean texture  mean perimeter  mean area  \\\n",
       "mean radius                      NaN      0.323782        0.997855   0.987357   \n",
       "mean texture                     NaN           NaN        0.329533   0.321086   \n",
       "mean perimeter                   NaN           NaN             NaN   0.986507   \n",
       "mean area                        NaN           NaN             NaN        NaN   \n",
       "mean smoothness                  NaN           NaN             NaN        NaN   \n",
       "mean compactness                 NaN           NaN             NaN        NaN   \n",
       "mean concavity                   NaN           NaN             NaN        NaN   \n",
       "mean concave points              NaN           NaN             NaN        NaN   \n",
       "mean symmetry                    NaN           NaN             NaN        NaN   \n",
       "mean fractal dimension           NaN           NaN             NaN        NaN   \n",
       "radius error                     NaN           NaN             NaN        NaN   \n",
       "texture error                    NaN           NaN             NaN        NaN   \n",
       "perimeter error                  NaN           NaN             NaN        NaN   \n",
       "area error                       NaN           NaN             NaN        NaN   \n",
       "smoothness error                 NaN           NaN             NaN        NaN   \n",
       "compactness error                NaN           NaN             NaN        NaN   \n",
       "concavity error                  NaN           NaN             NaN        NaN   \n",
       "concave points error             NaN           NaN             NaN        NaN   \n",
       "symmetry error                   NaN           NaN             NaN        NaN   \n",
       "fractal dimension error          NaN           NaN             NaN        NaN   \n",
       "worst radius                     NaN           NaN             NaN        NaN   \n",
       "worst texture                    NaN           NaN             NaN        NaN   \n",
       "worst perimeter                  NaN           NaN             NaN        NaN   \n",
       "worst area                       NaN           NaN             NaN        NaN   \n",
       "worst smoothness                 NaN           NaN             NaN        NaN   \n",
       "worst compactness                NaN           NaN             NaN        NaN   \n",
       "worst concavity                  NaN           NaN             NaN        NaN   \n",
       "worst concave points             NaN           NaN             NaN        NaN   \n",
       "worst symmetry                   NaN           NaN             NaN        NaN   \n",
       "worst fractal dimension          NaN           NaN             NaN        NaN   \n",
       "\n",
       "                         mean smoothness  mean compactness  mean concavity  \\\n",
       "mean radius                     0.170581          0.506124        0.676764   \n",
       "mean texture                    0.023389          0.236702        0.302418   \n",
       "mean perimeter                  0.207278          0.556936        0.716136   \n",
       "mean area                       0.177028          0.498502        0.685983   \n",
       "mean smoothness                      NaN          0.659123        0.521984   \n",
       "mean compactness                     NaN               NaN        0.883121   \n",
       "mean concavity                       NaN               NaN             NaN   \n",
       "mean concave points                  NaN               NaN             NaN   \n",
       "mean symmetry                        NaN               NaN             NaN   \n",
       "mean fractal dimension               NaN               NaN             NaN   \n",
       "radius error                         NaN               NaN             NaN   \n",
       "texture error                        NaN               NaN             NaN   \n",
       "perimeter error                      NaN               NaN             NaN   \n",
       "area error                           NaN               NaN             NaN   \n",
       "smoothness error                     NaN               NaN             NaN   \n",
       "compactness error                    NaN               NaN             NaN   \n",
       "concavity error                      NaN               NaN             NaN   \n",
       "concave points error                 NaN               NaN             NaN   \n",
       "symmetry error                       NaN               NaN             NaN   \n",
       "fractal dimension error              NaN               NaN             NaN   \n",
       "worst radius                         NaN               NaN             NaN   \n",
       "worst texture                        NaN               NaN             NaN   \n",
       "worst perimeter                      NaN               NaN             NaN   \n",
       "worst area                           NaN               NaN             NaN   \n",
       "worst smoothness                     NaN               NaN             NaN   \n",
       "worst compactness                    NaN               NaN             NaN   \n",
       "worst concavity                      NaN               NaN             NaN   \n",
       "worst concave points                 NaN               NaN             NaN   \n",
       "worst symmetry                       NaN               NaN             NaN   \n",
       "worst fractal dimension              NaN               NaN             NaN   \n",
       "\n",
       "                         mean concave points  mean symmetry  \\\n",
       "mean radius                         0.822529       0.147741   \n",
       "mean texture                        0.293464       0.071401   \n",
       "mean perimeter                      0.850977       0.183027   \n",
       "mean area                           0.823269       0.151293   \n",
       "mean smoothness                     0.553695       0.557775   \n",
       "mean compactness                    0.831135       0.602641   \n",
       "mean concavity                      0.921391       0.500667   \n",
       "mean concave points                      NaN       0.462497   \n",
       "mean symmetry                            NaN            NaN   \n",
       "mean fractal dimension                   NaN            NaN   \n",
       "radius error                             NaN            NaN   \n",
       "texture error                            NaN            NaN   \n",
       "perimeter error                          NaN            NaN   \n",
       "area error                               NaN            NaN   \n",
       "smoothness error                         NaN            NaN   \n",
       "compactness error                        NaN            NaN   \n",
       "concavity error                          NaN            NaN   \n",
       "concave points error                     NaN            NaN   \n",
       "symmetry error                           NaN            NaN   \n",
       "fractal dimension error                  NaN            NaN   \n",
       "worst radius                             NaN            NaN   \n",
       "worst texture                            NaN            NaN   \n",
       "worst perimeter                          NaN            NaN   \n",
       "worst area                               NaN            NaN   \n",
       "worst smoothness                         NaN            NaN   \n",
       "worst compactness                        NaN            NaN   \n",
       "worst concavity                          NaN            NaN   \n",
       "worst concave points                     NaN            NaN   \n",
       "worst symmetry                           NaN            NaN   \n",
       "worst fractal dimension                  NaN            NaN   \n",
       "\n",
       "                         mean fractal dimension  ...  worst radius  \\\n",
       "mean radius                            0.311631  ...      0.969539   \n",
       "mean texture                           0.076437  ...      0.352573   \n",
       "mean perimeter                         0.261477  ...      0.969476   \n",
       "mean area                              0.283110  ...      0.962746   \n",
       "mean smoothness                        0.584792  ...      0.213120   \n",
       "mean compactness                       0.565369  ...      0.535315   \n",
       "mean concavity                         0.336783  ...      0.688236   \n",
       "mean concave points                    0.166917  ...      0.830318   \n",
       "mean symmetry                          0.479921  ...      0.185728   \n",
       "mean fractal dimension                      NaN  ...      0.253691   \n",
       "radius error                                NaN  ...      0.715065   \n",
       "texture error                               NaN  ...      0.111690   \n",
       "perimeter error                             NaN  ...      0.697201   \n",
       "area error                                  NaN  ...      0.757373   \n",
       "smoothness error                            NaN  ...      0.230691   \n",
       "compactness error                           NaN  ...      0.204607   \n",
       "concavity error                             NaN  ...      0.186904   \n",
       "concave points error                        NaN  ...      0.358127   \n",
       "symmetry error                              NaN  ...      0.128121   \n",
       "fractal dimension error                     NaN  ...      0.037488   \n",
       "worst radius                                NaN  ...           NaN   \n",
       "worst texture                               NaN  ...           NaN   \n",
       "worst perimeter                             NaN  ...           NaN   \n",
       "worst area                                  NaN  ...           NaN   \n",
       "worst smoothness                            NaN  ...           NaN   \n",
       "worst compactness                           NaN  ...           NaN   \n",
       "worst concavity                             NaN  ...           NaN   \n",
       "worst concave points                        NaN  ...           NaN   \n",
       "worst symmetry                              NaN  ...           NaN   \n",
       "worst fractal dimension                     NaN  ...           NaN   \n",
       "\n",
       "                         worst texture  worst perimeter  worst area  \\\n",
       "mean radius                   0.297008         0.965137    0.941082   \n",
       "mean texture                  0.912045         0.358040    0.343546   \n",
       "mean perimeter                0.303038         0.970387    0.941550   \n",
       "mean area                     0.287489         0.959120    0.959213   \n",
       "mean smoothness               0.036072         0.238853    0.206718   \n",
       "mean compactness              0.248133         0.590210    0.509604   \n",
       "mean concavity                0.299879         0.729565    0.675987   \n",
       "mean concave points           0.292752         0.855923    0.809630   \n",
       "mean symmetry                 0.090651         0.219169    0.177193   \n",
       "mean fractal dimension        0.051269         0.205151    0.231854   \n",
       "radius error                  0.194799         0.719684    0.751548   \n",
       "texture error                 0.409003         0.102242    0.083195   \n",
       "perimeter error               0.200371         0.721031    0.730713   \n",
       "area error                    0.196497         0.761213    0.811408   \n",
       "smoothness error              0.074743         0.217304    0.182195   \n",
       "compactness error             0.143003         0.260516    0.199371   \n",
       "concavity error               0.100241         0.226680    0.188353   \n",
       "concave points error          0.086741         0.394999    0.342271   \n",
       "symmetry error                0.077473         0.103753    0.110343   \n",
       "fractal dimension error       0.003195         0.001000    0.022736   \n",
       "worst radius                  0.359921         0.993708    0.984015   \n",
       "worst texture                      NaN         0.365098    0.345842   \n",
       "worst perimeter                    NaN              NaN    0.977578   \n",
       "worst area                         NaN              NaN         NaN   \n",
       "worst smoothness                   NaN              NaN         NaN   \n",
       "worst compactness                  NaN              NaN         NaN   \n",
       "worst concavity                    NaN              NaN         NaN   \n",
       "worst concave points               NaN              NaN         NaN   \n",
       "worst symmetry                     NaN              NaN         NaN   \n",
       "worst fractal dimension            NaN              NaN         NaN   \n",
       "\n",
       "                         worst smoothness  worst compactness  worst concavity  \\\n",
       "mean radius                      0.119616           0.413463         0.526911   \n",
       "mean texture                     0.077503           0.277830         0.301025   \n",
       "mean perimeter                   0.150549           0.455774         0.563879   \n",
       "mean area                        0.123523           0.390410         0.512606   \n",
       "mean smoothness                  0.805324           0.472468         0.434926   \n",
       "mean compactness                 0.565541           0.865809         0.816275   \n",
       "mean concavity                   0.448822           0.754968         0.884103   \n",
       "mean concave points              0.452753           0.667454         0.752399   \n",
       "mean symmetry                    0.426675           0.473200         0.433721   \n",
       "mean fractal dimension           0.504942           0.458798         0.346234   \n",
       "radius error                     0.141919           0.287103         0.380585   \n",
       "texture error                    0.073658           0.092439         0.068956   \n",
       "perimeter error                  0.130054           0.341919         0.418899   \n",
       "area error                       0.125389           0.283257         0.385100   \n",
       "smoothness error                 0.314457           0.055558         0.058298   \n",
       "compactness error                0.227394           0.678780         0.639147   \n",
       "concavity error                  0.168481           0.484858         0.662564   \n",
       "concave points error             0.215351           0.452888         0.549592   \n",
       "symmetry error                   0.012662           0.060255         0.037119   \n",
       "fractal dimension error          0.170568           0.390159         0.379975   \n",
       "worst radius                     0.216574           0.475820         0.573975   \n",
       "worst texture                    0.225429           0.360832         0.368366   \n",
       "worst perimeter                  0.236775           0.529408         0.618344   \n",
       "worst area                       0.209145           0.438296         0.543331   \n",
       "worst smoothness                      NaN           0.568187         0.518523   \n",
       "worst compactness                     NaN                NaN         0.892261   \n",
       "worst concavity                       NaN                NaN              NaN   \n",
       "worst concave points                  NaN                NaN              NaN   \n",
       "worst symmetry                        NaN                NaN              NaN   \n",
       "worst fractal dimension               NaN                NaN              NaN   \n",
       "\n",
       "                         worst concave points  worst symmetry  \\\n",
       "mean radius                          0.744214        0.163953   \n",
       "mean texture                         0.295316        0.105008   \n",
       "mean perimeter                       0.771241        0.189115   \n",
       "mean area                            0.722017        0.143570   \n",
       "mean smoothness                      0.503053        0.394309   \n",
       "mean compactness                     0.815573        0.510223   \n",
       "mean concavity                       0.861323        0.409464   \n",
       "mean concave points                  0.910155        0.375744   \n",
       "mean symmetry                        0.430297        0.699826   \n",
       "mean fractal dimension               0.175325        0.334019   \n",
       "radius error                         0.531062        0.094543   \n",
       "texture error                        0.119638        0.128215   \n",
       "perimeter error                      0.554897        0.109930   \n",
       "area error                           0.538166        0.074126   \n",
       "smoothness error                     0.102007        0.107342   \n",
       "compactness error                    0.483208        0.277878   \n",
       "concavity error                      0.440472        0.197788   \n",
       "concave points error                 0.602450        0.143116   \n",
       "symmetry error                       0.030413        0.389402   \n",
       "fractal dimension error              0.215204        0.111094   \n",
       "worst radius                         0.787424        0.243529   \n",
       "worst texture                        0.359755        0.233027   \n",
       "worst perimeter                      0.816322        0.269493   \n",
       "worst area                           0.747419        0.209146   \n",
       "worst smoothness                     0.547691        0.493838   \n",
       "worst compactness                    0.801080        0.614441   \n",
       "worst concavity                      0.855434        0.532520   \n",
       "worst concave points                      NaN        0.502528   \n",
       "worst symmetry                            NaN             NaN   \n",
       "worst fractal dimension                   NaN             NaN   \n",
       "\n",
       "                         worst fractal dimension  \n",
       "mean radius                             0.007066  \n",
       "mean texture                            0.119205  \n",
       "mean perimeter                          0.051019  \n",
       "mean area                               0.003738  \n",
       "mean smoothness                         0.499316  \n",
       "mean compactness                        0.687382  \n",
       "mean concavity                          0.514930  \n",
       "mean concave points                     0.368661  \n",
       "mean symmetry                           0.438413  \n",
       "mean fractal dimension                  0.767297  \n",
       "radius error                            0.049559  \n",
       "texture error                           0.045655  \n",
       "perimeter error                         0.085433  \n",
       "area error                              0.017539  \n",
       "smoothness error                        0.101480  \n",
       "compactness error                       0.590973  \n",
       "concavity error                         0.439329  \n",
       "concave points error                    0.310655  \n",
       "symmetry error                          0.078079  \n",
       "fractal dimension error                 0.591328  \n",
       "worst radius                            0.093492  \n",
       "worst texture                           0.219122  \n",
       "worst perimeter                         0.138957  \n",
       "worst area                              0.079647  \n",
       "worst smoothness                        0.617624  \n",
       "worst compactness                       0.810455  \n",
       "worst concavity                         0.686511  \n",
       "worst concave points                    0.511114  \n",
       "worst symmetry                          0.537848  \n",
       "worst fractal dimension                      NaN  \n",
       "\n",
       "[30 rows x 30 columns]"
      ]
     },
     "execution_count": 48,
     "metadata": {},
     "output_type": "execute_result"
    }
   ],
   "source": [
    "corr_matrix = new_d.corr().abs()\n",
    "#new matrix\n",
    "corr_matrix.where(np.triu(np.ones(corr_matrix.shape), k=1).astype(np.bool))"
   ]
  },
  {
   "cell_type": "code",
   "execution_count": 51,
   "id": "f5069bab",
   "metadata": {},
   "outputs": [],
   "source": [
    "# Find index of feature columns with correlation greater than 0.95\n",
    "#to_drop = [column for column in corr_matrix.columns if any(corr_matrix[column] > 0.95)]"
   ]
  },
  {
   "cell_type": "code",
   "execution_count": 26,
   "id": "faeb44e4",
   "metadata": {
    "scrolled": true
   },
   "outputs": [
    {
     "data": {
      "text/plain": [
       "Index(['target'], dtype='object')"
      ]
     },
     "execution_count": 26,
     "metadata": {},
     "output_type": "execute_result"
    }
   ],
   "source": [
    "# Drop features and assign to \n",
    "X = cancer_df.drop(cancer_df[to_drop], axis=1)\n",
    "X.columns"
   ]
  },
  {
   "cell_type": "code",
   "execution_count": 27,
   "id": "478a4d23",
   "metadata": {},
   "outputs": [],
   "source": [
    "cancer_df=cancer_df.drop(['target'],axis=1)"
   ]
  },
  {
   "cell_type": "markdown",
   "id": "578bcf3c",
   "metadata": {},
   "source": [
    "EDA and Prediction= done\n",
    "\n",
    "How to predict the breast cancer\n",
    "\n",
    "Increasing in accuracy"
   ]
  },
  {
   "cell_type": "markdown",
   "id": "a47b8454",
   "metadata": {},
   "source": [
    "#### PART II: PREDICTING CANCER"
   ]
  },
  {
   "cell_type": "markdown",
   "id": "3309af4b",
   "metadata": {},
   "source": [
    "i will use these classifiers Logistic Regression, Support Vector Classifier, Decision Tree and Random Forest to predict if a tumor is cancer or not"
   ]
  },
  {
   "cell_type": "code",
   "execution_count": 28,
   "id": "892b9754",
   "metadata": {},
   "outputs": [],
   "source": [
    "#libraries\n",
    "from sklearn.model_selection import train_test_split\n",
    "from sklearn.preprocessing import RobustScaler\n",
    "from sklearn.linear_model import LogisticRegression\n",
    "from sklearn.svm import SVC\n",
    "from sklearn.ensemble import RandomForestClassifier\n",
    "from sklearn.tree import DecisionTreeClassifier\n",
    "from sklearn.metrics import confusion_matrix\n",
    "from sklearn.metrics import classification_report\n",
    "from sklearn.metrics import accuracy_score\n",
    "from sklearn.model_selection import GridSearchCV\n",
    "from sklearn.metrics import fbeta_score, make_scorer\n",
    "from sklearn.metrics import roc_auc_score,roc_curve, auc\n",
    "from sklearn.preprocessing import label_binarize\n",
    "from sklearn import metrics"
   ]
  },
  {
   "cell_type": "code",
   "execution_count": 29,
   "id": "0d150333",
   "metadata": {},
   "outputs": [],
   "source": [
    "X_train, X_test, y_train, y_test = train_test_split(X, y, test_size = 0.30, stratify=y, random_state = 42)"
   ]
  },
  {
   "cell_type": "markdown",
   "id": "cf4dce7e",
   "metadata": {},
   "source": [
    "Unlike the other scalers, the centering and scaling statistics of RobustScaler is based on percentiles and are therefore not influenced by a few number of very large marginal outliers.so i will use RobustScaler before modeling"
   ]
  },
  {
   "cell_type": "code",
   "execution_count": 30,
   "id": "36f01d18",
   "metadata": {},
   "outputs": [
    {
     "data": {
      "text/plain": [
       "RobustScaler()"
      ]
     },
     "execution_count": 30,
     "metadata": {},
     "output_type": "execute_result"
    }
   ],
   "source": [
    "#robust scaler \n",
    "rs=RobustScaler()\n",
    "rs.fit(X_train, y_train)"
   ]
  },
  {
   "cell_type": "code",
   "execution_count": 31,
   "id": "650ac9d4",
   "metadata": {},
   "outputs": [
    {
     "data": {
      "text/plain": [
       "LogisticRegression(random_state=0)"
      ]
     },
     "execution_count": 31,
     "metadata": {},
     "output_type": "execute_result"
    }
   ],
   "source": [
    "#Logistic Regression \n",
    "log = LogisticRegression(random_state = 0)\n",
    "log.fit(X_train, y_train)"
   ]
  },
  {
   "cell_type": "code",
   "execution_count": 32,
   "id": "b5c23199",
   "metadata": {},
   "outputs": [
    {
     "data": {
      "text/plain": [
       "SVC(kernel='linear', random_state=0)"
      ]
     },
     "execution_count": 32,
     "metadata": {},
     "output_type": "execute_result"
    }
   ],
   "source": [
    "#Using SVC linear\n",
    "svc_lin = SVC(kernel = 'linear', random_state = 0)\n",
    "svc_lin.fit(X_train, y_train)"
   ]
  },
  {
   "cell_type": "code",
   "execution_count": 33,
   "id": "90909ed2",
   "metadata": {},
   "outputs": [
    {
     "data": {
      "text/plain": [
       "SVC(random_state=0)"
      ]
     },
     "execution_count": 33,
     "metadata": {},
     "output_type": "execute_result"
    }
   ],
   "source": [
    "#Using SVC rbf\n",
    "svc_rbf = SVC(kernel = 'rbf', random_state = 0)\n",
    "svc_rbf.fit(X_train, y_train)"
   ]
  },
  {
   "cell_type": "code",
   "execution_count": 34,
   "id": "7cb37500",
   "metadata": {},
   "outputs": [
    {
     "data": {
      "text/plain": [
       "DecisionTreeClassifier(criterion='entropy', random_state=0)"
      ]
     },
     "execution_count": 34,
     "metadata": {},
     "output_type": "execute_result"
    }
   ],
   "source": [
    "#Using DecisionTreeClassifier \n",
    "tree = DecisionTreeClassifier(criterion = 'entropy', random_state = 0)\n",
    "tree.fit(X_train, y_train)"
   ]
  },
  {
   "cell_type": "code",
   "execution_count": 35,
   "id": "70d17f5e",
   "metadata": {},
   "outputs": [
    {
     "data": {
      "text/plain": [
       "RandomForestClassifier(criterion='entropy', n_estimators=10, random_state=0)"
      ]
     },
     "execution_count": 35,
     "metadata": {},
     "output_type": "execute_result"
    }
   ],
   "source": [
    "#Using Random Forest Classifier\n",
    "forest = RandomForestClassifier(n_estimators = 10, criterion = 'entropy', random_state = 0)\n",
    "forest.fit(X_train, y_train)"
   ]
  },
  {
   "cell_type": "code",
   "execution_count": 36,
   "id": "39f700c2",
   "metadata": {},
   "outputs": [
    {
     "name": "stdout",
     "output_type": "stream",
     "text": [
      "Logistic Regression Training Accuracy: 1.0\n"
     ]
    },
    {
     "data": {
      "text/plain": [
       "array([[ 64,   0],\n",
       "       [  0, 107]], dtype=int64)"
      ]
     },
     "execution_count": 36,
     "metadata": {},
     "output_type": "execute_result"
    }
   ],
   "source": [
    "print('Logistic Regression Training Accuracy:', log.score(X_train, y_train)),\n",
    "confusion_matrix(y_test, log.predict(X_test))"
   ]
  },
  {
   "cell_type": "code",
   "execution_count": 37,
   "id": "8167b7ef",
   "metadata": {},
   "outputs": [
    {
     "name": "stdout",
     "output_type": "stream",
     "text": [
      "Support Vector Machine (Linear Classifier) Training Accuracy: 1.0\n"
     ]
    },
    {
     "data": {
      "text/plain": [
       "array([[ 64,   0],\n",
       "       [  0, 107]], dtype=int64)"
      ]
     },
     "execution_count": 37,
     "metadata": {},
     "output_type": "execute_result"
    }
   ],
   "source": [
    "print('Support Vector Machine (Linear Classifier) Training Accuracy:', svc_lin.score(X_train, y_train)),\n",
    "confusion_matrix(y_test, svc_lin.predict(X_test))"
   ]
  },
  {
   "cell_type": "code",
   "execution_count": 38,
   "id": "b37fa977",
   "metadata": {},
   "outputs": [
    {
     "name": "stdout",
     "output_type": "stream",
     "text": [
      "Support Vector Machine (RBF Classifier) Training Accuracy: 1.0\n"
     ]
    },
    {
     "data": {
      "text/plain": [
       "array([[ 64,   0],\n",
       "       [  0, 107]], dtype=int64)"
      ]
     },
     "execution_count": 38,
     "metadata": {},
     "output_type": "execute_result"
    }
   ],
   "source": [
    "print('Support Vector Machine (RBF Classifier) Training Accuracy:', svc_rbf.score(X_train, y_train)),\n",
    "confusion_matrix(y_test, svc_rbf.predict(X_test))"
   ]
  },
  {
   "cell_type": "code",
   "execution_count": 39,
   "id": "f2b8d11c",
   "metadata": {},
   "outputs": [
    {
     "data": {
      "text/plain": [
       "1.0"
      ]
     },
     "execution_count": 39,
     "metadata": {},
     "output_type": "execute_result"
    }
   ],
   "source": [
    "roc_auc_score(y, log.predict_proba(X)[:, 1])"
   ]
  },
  {
   "cell_type": "code",
   "execution_count": 40,
   "id": "008b2119",
   "metadata": {},
   "outputs": [
    {
     "data": {
      "text/plain": [
       "<sklearn.metrics._plot.roc_curve.RocCurveDisplay at 0x219b8bcc490>"
      ]
     },
     "execution_count": 40,
     "metadata": {},
     "output_type": "execute_result"
    },
    {
     "data": {
      "image/png": "[encoded data removed]",
      "text/plain": [
       "<Figure size 432x288 with 1 Axes>"
      ]
     },
     "metadata": {},
     "output_type": "display_data"
    }
   ],
   "source": [
    "# Compute ROC curve for SVC classifier\n",
    "metrics.plot_roc_curve(svc_lin, X_test, y_test) "
   ]
  },
  {
   "cell_type": "code",
   "execution_count": 41,
   "id": "c219d3a2",
   "metadata": {},
   "outputs": [
    {
     "data": {
      "text/plain": [
       "<sklearn.metrics._plot.roc_curve.RocCurveDisplay at 0x219b8c97760>"
      ]
     },
     "execution_count": 41,
     "metadata": {},
     "output_type": "execute_result"
    },
    {
     "data": {
      "image/png": "[encoded data removed]",
      "text/plain": [
       "<Figure size 432x288 with 1 Axes>"
      ]
     },
     "metadata": {},
     "output_type": "display_data"
    }
   ],
   "source": [
    "#random forest roc curve\n",
    "metrics.plot_roc_curve(tree, X_test, y_test) "
   ]
  },
  {
   "cell_type": "code",
   "execution_count": 42,
   "id": "716077fa",
   "metadata": {},
   "outputs": [
    {
     "name": "stdout",
     "output_type": "stream",
     "text": [
      "Decision Tree Classifier Training Accuracy: 1.0\n"
     ]
    },
    {
     "data": {
      "text/plain": [
       "1.0"
      ]
     },
     "execution_count": 42,
     "metadata": {},
     "output_type": "execute_result"
    }
   ],
   "source": [
    "print('Decision Tree Classifier Training Accuracy:', tree.score(X_train, y_train)),\n",
    "tree.score(X_train, y_train)"
   ]
  },
  {
   "cell_type": "code",
   "execution_count": 43,
   "id": "b43a2141",
   "metadata": {},
   "outputs": [
    {
     "data": {
      "text/plain": [
       "<sklearn.metrics._plot.roc_curve.RocCurveDisplay at 0x219b8a627c0>"
      ]
     },
     "execution_count": 43,
     "metadata": {},
     "output_type": "execute_result"
    },
    {
     "data": {
      "image/png": "[encoded data removed]",
      "text/plain": [
       "<Figure size 432x288 with 1 Axes>"
      ]
     },
     "metadata": {},
     "output_type": "display_data"
    }
   ],
   "source": [
    "#random forest roc curve\n",
    "metrics.plot_roc_curve(forest, X_test, y_test) "
   ]
  },
  {
   "cell_type": "code",
   "execution_count": 44,
   "id": "9c347f66",
   "metadata": {},
   "outputs": [
    {
     "name": "stdout",
     "output_type": "stream",
     "text": [
      "Random Forest Classifier Training Accuracy: 1.0\n"
     ]
    },
    {
     "data": {
      "text/plain": [
       "1.0"
      ]
     },
     "execution_count": 44,
     "metadata": {},
     "output_type": "execute_result"
    }
   ],
   "source": [
    "print('Random Forest Classifier Training Accuracy:', forest.score(X_train, y_train)),\n",
    "forest.score(X_train, y_train)"
   ]
  },
  {
   "cell_type": "markdown",
   "id": "eed1e2c7",
   "metadata": {},
   "source": [
    "#### i tried to create a dictionary of predictions and model names to make it easier calculating classification report and scores. is there any other easier way?"
   ]
  },
  {
   "cell_type": "code",
   "execution_count": 45,
   "id": "4079346b",
   "metadata": {},
   "outputs": [
    {
     "data": {
      "text/plain": [
       "<function dict.keys>"
      ]
     },
     "execution_count": 45,
     "metadata": {},
     "output_type": "execute_result"
    }
   ],
   "source": [
    "preds={\"logistic:\":[log.predict(X_test)],\"svm-lineer:\":[svc_lin.predict(X_test)],\"svm-rbf:\":[svc_rbf.predict(X_test)],\n",
    "       \"decision tree:\":[tree.predict(X_test)],\"random forest:\":[forest.predict(X_test)]}\n",
    "preds.keys"
   ]
  },
  {
   "cell_type": "code",
   "execution_count": 46,
   "id": "c4cae8bc",
   "metadata": {},
   "outputs": [],
   "source": [
    "report_data=classification_report(y_test, log.predict(X_test))"
   ]
  },
  {
   "cell_type": "markdown",
   "id": "803a5068",
   "metadata": {},
   "source": [
    "classification report with seperate scores, like precision,recall,f1_score etc. just to learn"
   ]
  },
  {
   "cell_type": "code",
   "execution_count": 55,
   "id": "576bb132",
   "metadata": {
    "scrolled": true
   },
   "outputs": [
    {
     "data": {
      "text/plain": [
       "'\\nfor y_pred in preds:\\n    classification_report(y_test, y_pred)\\n    '"
      ]
     },
     "execution_count": 55,
     "metadata": {},
     "output_type": "execute_result"
    }
   ],
   "source": [
    "'''\n",
    "for y_pred in preds:\n",
    "    classification_report(y_test, y_pred)\n",
    "    '''"
   ]
  },
  {
   "cell_type": "markdown",
   "id": "000178a3",
   "metadata": {},
   "source": [
    "#### will use this if i can create a dictionary above"
   ]
  },
  {
   "cell_type": "code",
   "execution_count": 56,
   "id": "912534a4",
   "metadata": {},
   "outputs": [
    {
     "data": {
      "text/plain": [
       "'\\nfor i in preds:\\n     #Check precision, recall, f1-score\\n     print(classification_report(y_test,i))\\n     #Another way to get the models accuracy on the test data\\n     print(accuracy_score(y_test, i))\\n     print()#Print a new line\\n     '"
      ]
     },
     "execution_count": 56,
     "metadata": {},
     "output_type": "execute_result"
    }
   ],
   "source": [
    "'''\n",
    "for i in preds:\n",
    "     #Check precision, recall, f1-score\n",
    "     print(classification_report(y_test,i))\n",
    "     #Another way to get the models accuracy on the test data\n",
    "     print(accuracy_score(y_test, i))\n",
    "     print()#Print a new line\n",
    "     '''"
   ]
  },
  {
   "cell_type": "markdown",
   "id": "7fc90861",
   "metadata": {},
   "source": [
    "classification_report for logistic prediction model"
   ]
  },
  {
   "cell_type": "code",
   "execution_count": 58,
   "id": "86961e71",
   "metadata": {},
   "outputs": [
    {
     "name": "stdout",
     "output_type": "stream",
     "text": [
      "              precision    recall  f1-score   support\n",
      "\n",
      "           0       1.00      1.00      1.00        64\n",
      "           1       1.00      1.00      1.00       107\n",
      "\n",
      "    accuracy                           1.00       171\n",
      "   macro avg       1.00      1.00      1.00       171\n",
      "weighted avg       1.00      1.00      1.00       171\n",
      "\n"
     ]
    }
   ],
   "source": [
    "print(classification_report(y_test, log.predict(X_test)))"
   ]
  },
  {
   "cell_type": "markdown",
   "id": "0c45a95b",
   "metadata": {},
   "source": [
    "## different direction than my first plan"
   ]
  },
  {
   "cell_type": "markdown",
   "id": "4565fe42",
   "metadata": {},
   "source": [
    "#### i found and edited this for my code,it is working, i put the models i want to use.it fits and prints all of them, i think i can add more thing in it. later i can use this for predictions, calculating scores and someother..."
   ]
  },
  {
   "cell_type": "code",
   "execution_count": 59,
   "id": "aa05a886",
   "metadata": {},
   "outputs": [
    {
     "name": "stdout",
     "output_type": "stream",
     "text": [
      "[0]Logistic Regression Training Accuracy: 1.0\n",
      "[1]Support Vector Machine (Linear Classifier) Training Accuracy: 1.0\n",
      "[2]Support Vector Machine (RBF Classifier) Training Accuracy: 1.0\n",
      "[3]Decision Tree Classifier Training Accuracy: 1.0\n",
      "[4]Random Forest Classifier Training Accuracy: 1.0\n"
     ]
    }
   ],
   "source": [
    "# Define a function which trains models\n",
    "def models(X_train,y_train):\n",
    "    \n",
    "  #Using Logistic Regression \n",
    "    from sklearn.linear_model import LogisticRegression\n",
    "    log = LogisticRegression(random_state = 0)\n",
    "    log.fit(X_train, y_train)\n",
    "  #Using SVC linear\n",
    "    from sklearn.svm import SVC\n",
    "    svc_lin = SVC(kernel = 'linear', random_state = 0)\n",
    "    svc_lin.fit(X_train, y_train)\n",
    "  #Using DecisionTreeClassifier \n",
    "    from sklearn.tree import DecisionTreeClassifier\n",
    "    tree = DecisionTreeClassifier(criterion = 'entropy', random_state = 0)\n",
    "    tree.fit(X_train, y_train)\n",
    "  #Using Random Forest Classifier\n",
    "    from sklearn.ensemble import RandomForestClassifier\n",
    "    forest = RandomForestClassifier(n_estimators = 10, criterion = 'entropy', random_state = 0)\n",
    "    forest.fit(X_train, y_train)\n",
    "  \n",
    "  #print model accuracy on the training data.\n",
    "    print('[0]Logistic Regression Training Accuracy:', log.score(X_train, y_train))\n",
    "    print('[1]Support Vector Machine (Linear Classifier) Training Accuracy:', svc_lin.score(X_train, y_train))\n",
    "    print('[2]Support Vector Machine (RBF Classifier) Training Accuracy:', svc_rbf.score(X_train, y_train))\n",
    "    print('[3]Decision Tree Classifier Training Accuracy:', tree.score(X_train, y_train))\n",
    "    print('[4]Random Forest Classifier Training Accuracy:', forest.score(X_train, y_train))\n",
    "  \n",
    "    return log, svc_lin, svc_rbf, tree, forest\n",
    "#get the training results\n",
    "model = models(X_train,y_train)"
   ]
  },
  {
   "cell_type": "code",
   "execution_count": 60,
   "id": "871980d4",
   "metadata": {},
   "outputs": [
    {
     "name": "stdout",
     "output_type": "stream",
     "text": [
      "Model 0\n",
      "              precision    recall  f1-score   support\n",
      "\n",
      "           0       1.00      1.00      1.00        64\n",
      "           1       1.00      1.00      1.00       107\n",
      "\n",
      "    accuracy                           1.00       171\n",
      "   macro avg       1.00      1.00      1.00       171\n",
      "weighted avg       1.00      1.00      1.00       171\n",
      "\n",
      "1.0\n",
      "\n",
      "Model 1\n",
      "              precision    recall  f1-score   support\n",
      "\n",
      "           0       1.00      1.00      1.00        64\n",
      "           1       1.00      1.00      1.00       107\n",
      "\n",
      "    accuracy                           1.00       171\n",
      "   macro avg       1.00      1.00      1.00       171\n",
      "weighted avg       1.00      1.00      1.00       171\n",
      "\n",
      "1.0\n",
      "\n",
      "Model 2\n",
      "              precision    recall  f1-score   support\n",
      "\n",
      "           0       1.00      1.00      1.00        64\n",
      "           1       1.00      1.00      1.00       107\n",
      "\n",
      "    accuracy                           1.00       171\n",
      "   macro avg       1.00      1.00      1.00       171\n",
      "weighted avg       1.00      1.00      1.00       171\n",
      "\n",
      "1.0\n",
      "\n",
      "Model 3\n",
      "              precision    recall  f1-score   support\n",
      "\n",
      "           0       1.00      1.00      1.00        64\n",
      "           1       1.00      1.00      1.00       107\n",
      "\n",
      "    accuracy                           1.00       171\n",
      "   macro avg       1.00      1.00      1.00       171\n",
      "weighted avg       1.00      1.00      1.00       171\n",
      "\n",
      "1.0\n",
      "\n",
      "Model 4\n",
      "              precision    recall  f1-score   support\n",
      "\n",
      "           0       1.00      1.00      1.00        64\n",
      "           1       1.00      1.00      1.00       107\n",
      "\n",
      "    accuracy                           1.00       171\n",
      "   macro avg       1.00      1.00      1.00       171\n",
      "weighted avg       1.00      1.00      1.00       171\n",
      "\n",
      "1.0\n",
      "\n"
     ]
    }
   ],
   "source": [
    "for i in range(len(model)):\n",
    " print('Model',i)\n",
    " #Check precision, recall, f1-score\n",
    " print(classification_report(y_test, model[i].predict(X_test)))\n",
    " #Another way to get the models accuracy on the test data\n",
    " print(accuracy_score(y_test, model[i].predict(X_test)))\n",
    " print()#Print a new line"
   ]
  },
  {
   "cell_type": "markdown",
   "id": "3f274c29",
   "metadata": {},
   "source": [
    "EDA and Prediction= done\n",
    "\n",
    "How to predict the breast cancer= done\n",
    "\n",
    "Increasing in accuracy"
   ]
  },
  {
   "cell_type": "markdown",
   "id": "dd4937f0",
   "metadata": {},
   "source": [
    "#### PART II: INCREASING ACCURACY HYPERPARAMETER TUNING"
   ]
  },
  {
   "cell_type": "code",
   "execution_count": 61,
   "id": "69226518",
   "metadata": {},
   "outputs": [
    {
     "name": "stdout",
     "output_type": "stream",
     "text": [
      "Best Penalty: l2\n",
      "Best C: 0.015\n"
     ]
    }
   ],
   "source": [
    "#make the scoring function with a beta = 2\n",
    "\n",
    "ftwo_scorer = make_scorer(fbeta_score, beta=2)\n",
    "# Create logistic regression\n",
    "logistic = LogisticRegression()\n",
    "# Create regularization penalty space\n",
    "penalty = ['l1', 'l2']\n",
    "# Create regularization hyperparameter space\n",
    "C = np.arange(0, 1, 0.001)\n",
    "# Create hyperparameter options\n",
    "hyperparameters = dict(C=C, penalty=penalty)\n",
    "\n",
    "# Create grid search using 5-fold cross validation\n",
    "clf = GridSearchCV(logistic, hyperparameters, cv=5, scoring=ftwo_scorer, verbose=0)\n",
    "# Fit grid search\n",
    "best_model = clf.fit(X_train, y_train)\n",
    "# View best hyperparameters\n",
    "print('Best Penalty:', best_model.best_estimator_.get_params()['penalty'])\n",
    "print('Best C:', best_model.best_estimator_.get_params()['C'])"
   ]
  },
  {
   "cell_type": "markdown",
   "id": "95d784de",
   "metadata": {},
   "source": [
    "i think ROC curve might help.\n",
    "ROC curves typically feature true positive rate on the Y axis, and false positive rate on the X axis. This means that the top left corner of the plot is the “ideal” point - a false positive rate of zero, and a true positive rate of one. This is not very realistic, but it does mean that a larger area under the curve (AUC) is usually better."
   ]
  }
 ],
 "metadata": {
  "kernelspec": {
   "display_name": "Python 3",
   "language": "python",
   "name": "python3"
  },
  "language_info": {
   "codemirror_mode": {
    "name": "ipython",
    "version": 3
   },
   "file_extension": ".py",
   "mimetype": "text/x-python",
   "name": "python",
   "nbconvert_exporter": "python",
   "pygments_lexer": "ipython3",
   "version": "3.8.8"
  }
 },
 "nbformat": 4,
 "nbformat_minor": 5
}
