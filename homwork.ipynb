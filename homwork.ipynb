import numpy as np
import pandas as pd
data = {'First_Name': ['Bill','Maria','David ','James','Mary'],
        'Last_Name': ['Anderson','Smith','Green','Miller','Carter'],
        'Age': [32,45,27,59,37]
        }
pets = pd.DataFrame({'sex': np.array(['M', 'M', 'F', 'M', 'F', 'F', 'F', 'M', 'F', 'M']),
                   'age': np.array([21, 45, 23, 56, 47, 70, 34, 30, 19, 62]),
                   'pets': np.array([['cat', 'dog'],
                                    ['hamster'],
                                    ['cat', 'gerbil'],
                                    ['fish', 'hamster', 'gerbil'],
                                    ['cat'],
                                    ['dog'],
                                    ['dog'],
                                    ['cat'],
                                    ['rabbit', 'cat'],
                                    ['dog']],dtype="object")})
pets.loc[pets['age'] == min(pets['age']), 'sex']
pets['num_pets'] = pets['pets'].apply(lambda x: len(x))
pet_series = pets['pets'].apply(pd.Series).stack().reset_index(drop=True)
pets.loc[pets['pets'].apply(lambda x: 'dog' in x), 'age'].mean()
