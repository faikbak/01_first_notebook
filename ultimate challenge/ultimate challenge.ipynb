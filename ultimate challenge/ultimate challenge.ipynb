{
 "cells": [
  {
   "cell_type": "code",
   "execution_count": 590,
   "id": "fc5c8f42",
   "metadata": {},
   "outputs": [],
   "source": [
    "import pandas as pd\n",
    "import numpy as np\n",
    "import seaborn as sns\n",
    "import json\n",
    "from datetime import datetime\n",
    "from datetime import date\n",
    "from datetime import time\n",
    "import matplotlib.pyplot as plt"
   ]
  },
  {
   "cell_type": "markdown",
   "id": "7cb6b0f2",
   "metadata": {},
   "source": [
    "#### alternative json reading method"
   ]
  },
  {
   "cell_type": "code",
   "execution_count": 591,
   "id": "bc885964",
   "metadata": {},
   "outputs": [
    {
     "data": {
      "text/plain": [
       "\"\\nwith open('ultimate_data_challenge.json') as f:\\n  data = json.load(f)\\n\""
      ]
     },
     "execution_count": 591,
     "metadata": {},
     "output_type": "execute_result"
    }
   ],
   "source": [
    "'''\n",
    "with open('ultimate_data_challenge.json') as f:\n",
    "  data = json.load(f)\n",
    "'''"
   ]
  },
  {
   "cell_type": "code",
   "execution_count": 592,
   "id": "5311679e",
   "metadata": {},
   "outputs": [],
   "source": [
    "log=pd.read_json('logins.json')\n",
    "udt=pd.read_json('ultimate_data_challenge.json')"
   ]
  },
  {
   "cell_type": "markdown",
   "id": "e7d675ec",
   "metadata": {},
   "source": [
    "# part I  Exploratory data analysis"
   ]
  },
  {
   "cell_type": "code",
   "execution_count": 593,
   "id": "c6c65991",
   "metadata": {},
   "outputs": [
    {
     "data": {
      "text/plain": [
       "Index(['login_time'], dtype='object')"
      ]
     },
     "execution_count": 593,
     "metadata": {},
     "output_type": "execute_result"
    }
   ],
   "source": [
    "log.columns"
   ]
  },
  {
   "cell_type": "code",
   "execution_count": 594,
   "id": "3b8af100",
   "metadata": {},
   "outputs": [
    {
     "data": {
      "text/html": [
       "<div>\n",
       "<style scoped>\n",
       "    .dataframe tbody tr th:only-of-type {\n",
       "        vertical-align: middle;\n",
       "    }\n",
       "\n",
       "    .dataframe tbody tr th {\n",
       "        vertical-align: top;\n",
       "    }\n",
       "\n",
       "    .dataframe thead th {\n",
       "        text-align: right;\n",
       "    }\n",
       "</style>\n",
       "<table border=\"1\" class=\"dataframe\">\n",
       "  <thead>\n",
       "    <tr style=\"text-align: right;\">\n",
       "      <th></th>\n",
       "      <th>login_time</th>\n",
       "    </tr>\n",
       "  </thead>\n",
       "  <tbody>\n",
       "    <tr>\n",
       "      <th>88301</th>\n",
       "      <td>1970-04-09 02:53:30</td>\n",
       "    </tr>\n",
       "    <tr>\n",
       "      <th>14082</th>\n",
       "      <td>1970-01-21 22:43:45</td>\n",
       "    </tr>\n",
       "    <tr>\n",
       "      <th>27894</th>\n",
       "      <td>1970-02-09 11:17:45</td>\n",
       "    </tr>\n",
       "    <tr>\n",
       "      <th>43248</th>\n",
       "      <td>1970-02-26 20:38:57</td>\n",
       "    </tr>\n",
       "    <tr>\n",
       "      <th>69663</th>\n",
       "      <td>1970-03-22 02:26:35</td>\n",
       "    </tr>\n",
       "  </tbody>\n",
       "</table>\n",
       "</div>"
      ],
      "text/plain": [
       "               login_time\n",
       "88301 1970-04-09 02:53:30\n",
       "14082 1970-01-21 22:43:45\n",
       "27894 1970-02-09 11:17:45\n",
       "43248 1970-02-26 20:38:57\n",
       "69663 1970-03-22 02:26:35"
      ]
     },
     "execution_count": 594,
     "metadata": {},
     "output_type": "execute_result"
    }
   ],
   "source": [
    "log.sample(5)"
   ]
  },
  {
   "cell_type": "code",
   "execution_count": 595,
   "id": "8f079b05",
   "metadata": {
    "scrolled": true
   },
   "outputs": [
    {
     "name": "stdout",
     "output_type": "stream",
     "text": [
      "<class 'pandas.core.frame.DataFrame'>\n",
      "RangeIndex: 93142 entries, 0 to 93141\n",
      "Data columns (total 1 columns):\n",
      " #   Column      Non-Null Count  Dtype         \n",
      "---  ------      --------------  -----         \n",
      " 0   login_time  93142 non-null  datetime64[ns]\n",
      "dtypes: datetime64[ns](1)\n",
      "memory usage: 727.8 KB\n"
     ]
    }
   ],
   "source": [
    "log.info()"
   ]
  },
  {
   "cell_type": "markdown",
   "id": "6874468a",
   "metadata": {},
   "source": [
    "#### sort and login times with 15 min interval"
   ]
  },
  {
   "cell_type": "code",
   "execution_count": 596,
   "id": "8467061d",
   "metadata": {
    "scrolled": true
   },
   "outputs": [
    {
     "data": {
      "text/html": [
       "<div>\n",
       "<style scoped>\n",
       "    .dataframe tbody tr th:only-of-type {\n",
       "        vertical-align: middle;\n",
       "    }\n",
       "\n",
       "    .dataframe tbody tr th {\n",
       "        vertical-align: top;\n",
       "    }\n",
       "\n",
       "    .dataframe thead th {\n",
       "        text-align: right;\n",
       "    }\n",
       "</style>\n",
       "<table border=\"1\" class=\"dataframe\">\n",
       "  <thead>\n",
       "    <tr style=\"text-align: right;\">\n",
       "      <th></th>\n",
       "      <th>login_time</th>\n",
       "      <th>count</th>\n",
       "    </tr>\n",
       "  </thead>\n",
       "  <tbody>\n",
       "    <tr>\n",
       "      <th>4590</th>\n",
       "      <td>1970-02-18 15:30:00</td>\n",
       "      <td>3</td>\n",
       "    </tr>\n",
       "    <tr>\n",
       "      <th>9653</th>\n",
       "      <td>1970-04-12 09:15:00</td>\n",
       "      <td>3</td>\n",
       "    </tr>\n",
       "    <tr>\n",
       "      <th>813</th>\n",
       "      <td>1970-01-10 07:15:00</td>\n",
       "      <td>4</td>\n",
       "    </tr>\n",
       "    <tr>\n",
       "      <th>8254</th>\n",
       "      <td>1970-03-28 19:30:00</td>\n",
       "      <td>22</td>\n",
       "    </tr>\n",
       "    <tr>\n",
       "      <th>2565</th>\n",
       "      <td>1970-01-28 13:15:00</td>\n",
       "      <td>8</td>\n",
       "    </tr>\n",
       "    <tr>\n",
       "      <th>7398</th>\n",
       "      <td>1970-03-19 21:30:00</td>\n",
       "      <td>20</td>\n",
       "    </tr>\n",
       "    <tr>\n",
       "      <th>7417</th>\n",
       "      <td>1970-03-20 02:15:00</td>\n",
       "      <td>27</td>\n",
       "    </tr>\n",
       "    <tr>\n",
       "      <th>2871</th>\n",
       "      <td>1970-01-31 17:45:00</td>\n",
       "      <td>9</td>\n",
       "    </tr>\n",
       "    <tr>\n",
       "      <th>5972</th>\n",
       "      <td>1970-03-05 01:00:00</td>\n",
       "      <td>20</td>\n",
       "    </tr>\n",
       "    <tr>\n",
       "      <th>1953</th>\n",
       "      <td>1970-01-22 04:15:00</td>\n",
       "      <td>3</td>\n",
       "    </tr>\n",
       "  </tbody>\n",
       "</table>\n",
       "</div>"
      ],
      "text/plain": [
       "              login_time  count\n",
       "4590 1970-02-18 15:30:00      3\n",
       "9653 1970-04-12 09:15:00      3\n",
       "813  1970-01-10 07:15:00      4\n",
       "8254 1970-03-28 19:30:00     22\n",
       "2565 1970-01-28 13:15:00      8\n",
       "7398 1970-03-19 21:30:00     20\n",
       "7417 1970-03-20 02:15:00     27\n",
       "2871 1970-01-31 17:45:00      9\n",
       "5972 1970-03-05 01:00:00     20\n",
       "1953 1970-01-22 04:15:00      3"
      ]
     },
     "execution_count": 596,
     "metadata": {},
     "output_type": "execute_result"
    }
   ],
   "source": [
    "log['count'] = 1\n",
    "log.sort_index(inplace=True)\n",
    "log_aggregated=pd.DataFrame(log.groupby([pd.Grouper(key='login_time', freq='15Min')]).sum()).reset_index()\n",
    "log_aggregated.sample(10)"
   ]
  },
  {
   "cell_type": "code",
   "execution_count": 597,
   "id": "42ab9cd9",
   "metadata": {},
   "outputs": [
    {
     "data": {
      "text/plain": [
       "\" another 15minute resempling method\\n\\ndf.resample('15T').asfreq()\\n\""
      ]
     },
     "execution_count": 597,
     "metadata": {},
     "output_type": "execute_result"
    }
   ],
   "source": [
    "''' another 15minute resempling method\n",
    "\n",
    "df.resample('15T').asfreq()\n",
    "'''"
   ]
  },
  {
   "cell_type": "code",
   "execution_count": 598,
   "id": "d17000d2",
   "metadata": {},
   "outputs": [],
   "source": [
    "#log_agg.set_index('login_time', inplace=True)"
   ]
  },
  {
   "cell_type": "code",
   "execution_count": 600,
   "id": "203c08be",
   "metadata": {},
   "outputs": [
    {
     "data": {
      "text/plain": [
       "login_time    0\n",
       "count         0\n",
       "dtype: int64"
      ]
     },
     "execution_count": 600,
     "metadata": {},
     "output_type": "execute_result"
    }
   ],
   "source": [
    "log_aggregated.isna().sum()"
   ]
  },
  {
   "cell_type": "code",
   "execution_count": 601,
   "id": "6b807dc5",
   "metadata": {},
   "outputs": [
    {
     "data": {
      "text/html": [
       "<div>\n",
       "<style scoped>\n",
       "    .dataframe tbody tr th:only-of-type {\n",
       "        vertical-align: middle;\n",
       "    }\n",
       "\n",
       "    .dataframe tbody tr th {\n",
       "        vertical-align: top;\n",
       "    }\n",
       "\n",
       "    .dataframe thead th {\n",
       "        text-align: right;\n",
       "    }\n",
       "</style>\n",
       "<table border=\"1\" class=\"dataframe\">\n",
       "  <thead>\n",
       "    <tr style=\"text-align: right;\">\n",
       "      <th></th>\n",
       "      <th>count</th>\n",
       "    </tr>\n",
       "  </thead>\n",
       "  <tbody>\n",
       "    <tr>\n",
       "      <th>count</th>\n",
       "      <td>9788.000000</td>\n",
       "    </tr>\n",
       "    <tr>\n",
       "      <th>mean</th>\n",
       "      <td>9.515938</td>\n",
       "    </tr>\n",
       "    <tr>\n",
       "      <th>std</th>\n",
       "      <td>8.328818</td>\n",
       "    </tr>\n",
       "    <tr>\n",
       "      <th>min</th>\n",
       "      <td>0.000000</td>\n",
       "    </tr>\n",
       "    <tr>\n",
       "      <th>25%</th>\n",
       "      <td>3.000000</td>\n",
       "    </tr>\n",
       "    <tr>\n",
       "      <th>50%</th>\n",
       "      <td>7.000000</td>\n",
       "    </tr>\n",
       "    <tr>\n",
       "      <th>75%</th>\n",
       "      <td>13.000000</td>\n",
       "    </tr>\n",
       "    <tr>\n",
       "      <th>max</th>\n",
       "      <td>73.000000</td>\n",
       "    </tr>\n",
       "  </tbody>\n",
       "</table>\n",
       "</div>"
      ],
      "text/plain": [
       "             count\n",
       "count  9788.000000\n",
       "mean      9.515938\n",
       "std       8.328818\n",
       "min       0.000000\n",
       "25%       3.000000\n",
       "50%       7.000000\n",
       "75%      13.000000\n",
       "max      73.000000"
      ]
     },
     "execution_count": 601,
     "metadata": {},
     "output_type": "execute_result"
    }
   ],
   "source": [
    "log_aggregated.describe()"
   ]
  },
  {
   "cell_type": "markdown",
   "id": "2a8fe0dd",
   "metadata": {},
   "source": [
    "visualize and observer if there is a correlation with days, i might use it during analyzing"
   ]
  },
  {
   "cell_type": "code",
   "execution_count": 618,
   "id": "6832bf3e",
   "metadata": {},
   "outputs": [
    {
     "data": {
      "text/plain": [
       "0       Thursday\n",
       "1       Thursday\n",
       "2       Thursday\n",
       "3       Thursday\n",
       "4       Thursday\n",
       "          ...   \n",
       "9783      Monday\n",
       "9784      Monday\n",
       "9785      Monday\n",
       "9786      Monday\n",
       "9787      Monday\n",
       "Name: login_time, Length: 9788, dtype: object"
      ]
     },
     "execution_count": 618,
     "metadata": {},
     "output_type": "execute_result"
    }
   ],
   "source": [
    "login_days=log_aggregated['login_time'].dt.day_name()\n",
    "login_days"
   ]
  },
  {
   "cell_type": "code",
   "execution_count": 634,
   "id": "60412729",
   "metadata": {},
   "outputs": [
    {
     "ename": "NameError",
     "evalue": "name 'ax' is not defined",
     "output_type": "error",
     "traceback": [
      "\u001b[1;31m---------------------------------------------------------------------------\u001b[0m",
      "\u001b[1;31mNameError\u001b[0m                                 Traceback (most recent call last)",
      "\u001b[1;32m<ipython-input-634-078a6c2cd845>\u001b[0m in \u001b[0;36m<module>\u001b[1;34m\u001b[0m\n\u001b[0;32m      1\u001b[0m \u001b[0mplt\u001b[0m\u001b[1;33m.\u001b[0m\u001b[0mhist\u001b[0m\u001b[1;33m(\u001b[0m\u001b[0mlogin_days\u001b[0m\u001b[1;33m)\u001b[0m\u001b[1;33m\u001b[0m\u001b[1;33m\u001b[0m\u001b[0m\n\u001b[1;32m----> 2\u001b[1;33m \u001b[0max\u001b[0m\u001b[1;33m.\u001b[0m\u001b[0mtick_params\u001b[0m\u001b[1;33m(\u001b[0m\u001b[0maxis\u001b[0m \u001b[1;33m=\u001b[0m\u001b[1;34m'x'\u001b[0m\u001b[1;33m,\u001b[0m \u001b[0mrotation\u001b[0m \u001b[1;33m=\u001b[0m \u001b[1;36m45\u001b[0m\u001b[1;33m)\u001b[0m\u001b[1;33m\u001b[0m\u001b[1;33m\u001b[0m\u001b[0m\n\u001b[0m\u001b[0;32m      3\u001b[0m \u001b[0mplt\u001b[0m\u001b[1;33m.\u001b[0m\u001b[0mshow\u001b[0m\u001b[1;33m(\u001b[0m\u001b[1;33m)\u001b[0m\u001b[1;33m\u001b[0m\u001b[1;33m\u001b[0m\u001b[0m\n",
      "\u001b[1;31mNameError\u001b[0m: name 'ax' is not defined"
     ]
    },
    {
     "data": {
      "image/png": "[encoded data removed]",
      "text/plain": [
       "<Figure size 432x288 with 1 Axes>"
      ]
     },
     "metadata": {},
     "output_type": "display_data"
    }
   ],
   "source": [
    "plt.hist(login_days)\n",
    "ax.tick_params(axis ='x', rotation = 45)\n",
    "plt.show()"
   ]
  },
  {
   "cell_type": "code",
   "execution_count": null,
   "id": "7e293116",
   "metadata": {},
   "outputs": [],
   "source": [
    "it seems there"
   ]
  },
  {
   "cell_type": "markdown",
   "id": "a22ab49c",
   "metadata": {},
   "source": [
    "visualize and observer if there is a correlation with hours like during midnight,in the morning..."
   ]
  },
  {
   "cell_type": "code",
   "execution_count": 628,
   "id": "e588196c",
   "metadata": {},
   "outputs": [
    {
     "data": {
      "text/plain": [
       "0        20\n",
       "1        20\n",
       "2        20\n",
       "3        20\n",
       "4        20\n",
       "         ..\n",
       "93137    18\n",
       "93138    18\n",
       "93139    18\n",
       "93140    18\n",
       "93141    18\n",
       "Name: login_time, Length: 93142, dtype: int64"
      ]
     },
     "execution_count": 628,
     "metadata": {},
     "output_type": "execute_result"
    }
   ],
   "source": [
    "hours=log['login_time'].dt.hour\n",
    "hours"
   ]
  },
  {
   "cell_type": "markdown",
   "id": "efd1c21d",
   "metadata": {},
   "source": [
    "### visualization part"
   ]
  },
  {
   "cell_type": "code",
   "execution_count": 605,
   "id": "55d72578",
   "metadata": {
    "scrolled": true
   },
   "outputs": [
    {
     "data": {
      "text/plain": [
       "Text(0, 0.5, 'Y axis label')"
      ]
     },
     "execution_count": 605,
     "metadata": {},
     "output_type": "execute_result"
    },
    {
     "data": {
      "image/png": "[encoded data removed]",
      "text/plain": [
       "<Figure size 432x288 with 1 Axes>"
      ]
     },
     "metadata": {},
     "output_type": "display_data"
    }
   ],
   "source": [
    "log_aggregated['count'].plot()\n",
    "plt.xlabel(\"X axis label\")\n",
    "plt.ylabel(\"Y axis label\")"
   ]
  },
  {
   "cell_type": "code",
   "execution_count": 606,
   "id": "ae1db1b1",
   "metadata": {
    "scrolled": true
   },
   "outputs": [
    {
     "data": {
      "image/png": "[encoded data removed]",
      "text/plain": [
       "<Figure size 432x288 with 1 Axes>"
      ]
     },
     "metadata": {},
     "output_type": "display_data"
    }
   ],
   "source": [
    "log_agg.rolling(window=500).mean().plot()\n",
    "plt.show()"
   ]
  },
  {
   "cell_type": "markdown",
   "id": "7aac018d",
   "metadata": {},
   "source": [
    "there is definitly an upward trend. that's why i need to draw slope line"
   ]
  },
  {
   "cell_type": "markdown",
   "id": "459e94d1",
   "metadata": {},
   "source": [
    "when we limit the date interval with only one month, we see that there are small discrete waves and we assume they are weekends because there are nearly 4 of them in a month.\n",
    "\n",
    "let's do the same for one day and see daily logins "
   ]
  },
  {
   "cell_type": "code",
   "execution_count": 607,
   "id": "e8f44363",
   "metadata": {},
   "outputs": [
    {
     "data": {
      "text/html": [
       "<div>\n",
       "<style scoped>\n",
       "    .dataframe tbody tr th:only-of-type {\n",
       "        vertical-align: middle;\n",
       "    }\n",
       "\n",
       "    .dataframe tbody tr th {\n",
       "        vertical-align: top;\n",
       "    }\n",
       "\n",
       "    .dataframe thead th {\n",
       "        text-align: right;\n",
       "    }\n",
       "</style>\n",
       "<table border=\"1\" class=\"dataframe\">\n",
       "  <thead>\n",
       "    <tr style=\"text-align: right;\">\n",
       "      <th></th>\n",
       "      <th>login_time</th>\n",
       "      <th>count</th>\n",
       "    </tr>\n",
       "  </thead>\n",
       "  <tbody>\n",
       "    <tr>\n",
       "      <th>0</th>\n",
       "      <td>1970-01-01 20:00:00</td>\n",
       "      <td>2</td>\n",
       "    </tr>\n",
       "    <tr>\n",
       "      <th>1</th>\n",
       "      <td>1970-01-01 20:15:00</td>\n",
       "      <td>6</td>\n",
       "    </tr>\n",
       "    <tr>\n",
       "      <th>2</th>\n",
       "      <td>1970-01-01 20:30:00</td>\n",
       "      <td>9</td>\n",
       "    </tr>\n",
       "    <tr>\n",
       "      <th>3</th>\n",
       "      <td>1970-01-01 20:45:00</td>\n",
       "      <td>7</td>\n",
       "    </tr>\n",
       "    <tr>\n",
       "      <th>4</th>\n",
       "      <td>1970-01-01 21:00:00</td>\n",
       "      <td>1</td>\n",
       "    </tr>\n",
       "  </tbody>\n",
       "</table>\n",
       "</div>"
      ],
      "text/plain": [
       "           login_time  count\n",
       "0 1970-01-01 20:00:00      2\n",
       "1 1970-01-01 20:15:00      6\n",
       "2 1970-01-01 20:30:00      9\n",
       "3 1970-01-01 20:45:00      7\n",
       "4 1970-01-01 21:00:00      1"
      ]
     },
     "execution_count": 607,
     "metadata": {},
     "output_type": "execute_result"
    }
   ],
   "source": [
    "log_agg.head()"
   ]
  },
  {
   "cell_type": "code",
   "execution_count": 608,
   "id": "8b2d0a00",
   "metadata": {},
   "outputs": [
    {
     "data": {
      "text/html": [
       "<div>\n",
       "<style scoped>\n",
       "    .dataframe tbody tr th:only-of-type {\n",
       "        vertical-align: middle;\n",
       "    }\n",
       "\n",
       "    .dataframe tbody tr th {\n",
       "        vertical-align: top;\n",
       "    }\n",
       "\n",
       "    .dataframe thead th {\n",
       "        text-align: right;\n",
       "    }\n",
       "</style>\n",
       "<table border=\"1\" class=\"dataframe\">\n",
       "  <thead>\n",
       "    <tr style=\"text-align: right;\">\n",
       "      <th></th>\n",
       "      <th>login_time</th>\n",
       "      <th>count</th>\n",
       "    </tr>\n",
       "  </thead>\n",
       "  <tbody>\n",
       "  </tbody>\n",
       "</table>\n",
       "</div>"
      ],
      "text/plain": [
       "Empty DataFrame\n",
       "Columns: [login_time, count]\n",
       "Index: []"
      ]
     },
     "execution_count": 608,
     "metadata": {},
     "output_type": "execute_result"
    }
   ],
   "source": [
    "log_agg.loc['1970-02-01':'1970-02-02' ]"
   ]
  },
  {
   "cell_type": "markdown",
   "id": "e6185b59",
   "metadata": {},
   "source": [
    "mostly the app usage,taxi calls are at it's peak after midnight, which is pretty understandable"
   ]
  },
  {
   "cell_type": "markdown",
   "id": "f515ec44",
   "metadata": {},
   "source": [
    "now let's see overall smoothed app usage rolling sums together with un smoothed data for 1 week"
   ]
  },
  {
   "cell_type": "code",
   "execution_count": 609,
   "id": "d9416a5c",
   "metadata": {
    "scrolled": true
   },
   "outputs": [
    {
     "data": {
      "image/png": "[encoded data removed]",
      "text/plain": [
       "<Figure size 432x288 with 1 Axes>"
      ]
     },
     "metadata": {},
     "output_type": "display_data"
    }
   ],
   "source": [
    "unsmoothed = login_times_agg['count'].loc['1970-02-01':'1970-02-07']\n",
    "smoothed = unsmoothed.rolling(window=100).mean()\n",
    "one_week = pd.DataFrame({'unsmoothed':unsmoothed, 'smoothed':smoothed})\n",
    "one_week.plot()\n",
    "plt.show()"
   ]
  },
  {
   "cell_type": "code",
   "execution_count": 610,
   "id": "6cb8d86a",
   "metadata": {},
   "outputs": [
    {
     "data": {
      "text/plain": [
       "Index(['count', 'index'], dtype='object')"
      ]
     },
     "execution_count": 610,
     "metadata": {},
     "output_type": "execute_result"
    }
   ],
   "source": [
    "login_times_agg.columns"
   ]
  },
  {
   "cell_type": "markdown",
   "id": "923bae3a",
   "metadata": {},
   "source": [
    "let's check login hours"
   ]
  },
  {
   "cell_type": "markdown",
   "id": "03689fb3",
   "metadata": {},
   "source": [
    "first:i couldn't inlcude index column into my analysis, let's create another column with index variables"
   ]
  },
  {
   "cell_type": "code",
   "execution_count": 611,
   "id": "c1086a16",
   "metadata": {},
   "outputs": [],
   "source": [
    "login_times_agg['index'] = login_times_agg.index"
   ]
  },
  {
   "cell_type": "code",
   "execution_count": 612,
   "id": "f75db56f",
   "metadata": {},
   "outputs": [
    {
     "data": {
      "text/plain": [
       "login_time\n",
       "1970-01-01 20:00:00   1970-01-01 20:00:00\n",
       "1970-01-01 20:15:00   1970-01-01 20:15:00\n",
       "1970-01-01 20:30:00   1970-01-01 20:30:00\n",
       "1970-01-01 20:45:00   1970-01-01 20:45:00\n",
       "1970-01-01 21:00:00   1970-01-01 21:00:00\n",
       "                              ...        \n",
       "1970-04-13 17:45:00   1970-04-13 17:45:00\n",
       "1970-04-13 18:00:00   1970-04-13 18:00:00\n",
       "1970-04-13 18:15:00   1970-04-13 18:15:00\n",
       "1970-04-13 18:30:00   1970-04-13 18:30:00\n",
       "1970-04-13 18:45:00   1970-04-13 18:45:00\n",
       "Name: index, Length: 9788, dtype: datetime64[ns]"
      ]
     },
     "execution_count": 612,
     "metadata": {},
     "output_type": "execute_result"
    }
   ],
   "source": [
    "pd.to_datetime(login_times_agg['index'])"
   ]
  },
  {
   "cell_type": "markdown",
   "id": "b134f1bf",
   "metadata": {},
   "source": [
    "let's check dtypes"
   ]
  },
  {
   "cell_type": "code",
   "execution_count": 613,
   "id": "c01c9b14",
   "metadata": {},
   "outputs": [
    {
     "data": {
      "text/plain": [
       "count             int64\n",
       "index    datetime64[ns]\n",
       "dtype: object"
      ]
     },
     "execution_count": 613,
     "metadata": {},
     "output_type": "execute_result"
    }
   ],
   "source": [
    "login_times_agg.dtypes"
   ]
  },
  {
   "cell_type": "markdown",
   "id": "d852176e",
   "metadata": {},
   "source": [
    "let's see if we can see login hours"
   ]
  },
  {
   "cell_type": "code",
   "execution_count": 614,
   "id": "37781325",
   "metadata": {},
   "outputs": [
    {
     "data": {
      "text/plain": [
       "login_time\n",
       "1970-01-01 20:00:00    20\n",
       "1970-01-01 20:15:00    20\n",
       "1970-01-01 20:30:00    20\n",
       "1970-01-01 20:45:00    20\n",
       "1970-01-01 21:00:00    21\n",
       "                       ..\n",
       "1970-04-13 17:45:00    17\n",
       "1970-04-13 18:00:00    18\n",
       "1970-04-13 18:15:00    18\n",
       "1970-04-13 18:30:00    18\n",
       "1970-04-13 18:45:00    18\n",
       "Name: index, Length: 9788, dtype: int64"
      ]
     },
     "execution_count": 614,
     "metadata": {},
     "output_type": "execute_result"
    }
   ],
   "source": [
    "login_times_agg['index'].dt.hour"
   ]
  },
  {
   "cell_type": "code",
   "execution_count": 615,
   "id": "b6f07163",
   "metadata": {},
   "outputs": [],
   "source": [
    "hour=login_times_agg['index'].dt.hour"
   ]
  },
  {
   "cell_type": "markdown",
   "id": "a98c473c",
   "metadata": {},
   "source": [
    "now use histogram to see most active days and hours"
   ]
  },
  {
   "cell_type": "code",
   "execution_count": 616,
   "id": "d0e73a6d",
   "metadata": {},
   "outputs": [
    {
     "ename": "AttributeError",
     "evalue": "'Series' object has no attribute 'Counter'",
     "output_type": "error",
     "traceback": [
      "\u001b[1;31m---------------------------------------------------------------------------\u001b[0m",
      "\u001b[1;31mAttributeError\u001b[0m                            Traceback (most recent call last)",
      "\u001b[1;32m<ipython-input-616-bb9e7f9e65dc>\u001b[0m in \u001b[0;36m<module>\u001b[1;34m\u001b[0m\n\u001b[0;32m      1\u001b[0m \u001b[0mplt\u001b[0m\u001b[1;33m.\u001b[0m\u001b[0mfigure\u001b[0m\u001b[1;33m(\u001b[0m\u001b[0mfigsize\u001b[0m\u001b[1;33m=\u001b[0m\u001b[1;33m(\u001b[0m\u001b[1;36m20\u001b[0m\u001b[1;33m,\u001b[0m \u001b[1;36m10\u001b[0m\u001b[1;33m)\u001b[0m\u001b[1;33m)\u001b[0m\u001b[1;33m\u001b[0m\u001b[1;33m\u001b[0m\u001b[0m\n\u001b[1;32m----> 2\u001b[1;33m \u001b[0mplt\u001b[0m\u001b[1;33m.\u001b[0m\u001b[0mbar\u001b[0m\u001b[1;33m(\u001b[0m\u001b[0mhour\u001b[0m\u001b[1;33m,\u001b[0m \u001b[0mhour\u001b[0m\u001b[1;33m.\u001b[0m\u001b[0mCounter\u001b[0m\u001b[1;33m,\u001b[0m \u001b[0mcolor\u001b[0m\u001b[1;33m=\u001b[0m\u001b[1;34m'grey'\u001b[0m\u001b[1;33m,\u001b[0m \u001b[0mwidth\u001b[0m\u001b[1;33m=\u001b[0m\u001b[1;36m1\u001b[0m\u001b[1;33m)\u001b[0m\u001b[1;33m\u001b[0m\u001b[1;33m\u001b[0m\u001b[0m\n\u001b[0m\u001b[0;32m      3\u001b[0m \u001b[0mplt\u001b[0m\u001b[1;33m.\u001b[0m\u001b[0mxlabel\u001b[0m\u001b[1;33m(\u001b[0m\u001b[1;34m'Hours'\u001b[0m\u001b[1;33m)\u001b[0m\u001b[1;33m\u001b[0m\u001b[1;33m\u001b[0m\u001b[0m\n\u001b[0;32m      4\u001b[0m \u001b[0mplt\u001b[0m\u001b[1;33m.\u001b[0m\u001b[0mylabel\u001b[0m\u001b[1;33m(\u001b[0m\u001b[1;34m'Frequency'\u001b[0m\u001b[1;33m)\u001b[0m\u001b[1;33m\u001b[0m\u001b[1;33m\u001b[0m\u001b[0m\n\u001b[0;32m      5\u001b[0m \u001b[0mplt\u001b[0m\u001b[1;33m.\u001b[0m\u001b[0mtitle\u001b[0m\u001b[1;33m(\u001b[0m\u001b[1;34m'Hours Plot'\u001b[0m\u001b[1;33m)\u001b[0m\u001b[1;33m\u001b[0m\u001b[1;33m\u001b[0m\u001b[0m\n",
      "\u001b[1;32m~\\anaconda3\\lib\\site-packages\\pandas\\core\\generic.py\u001b[0m in \u001b[0;36m__getattr__\u001b[1;34m(self, name)\u001b[0m\n\u001b[0;32m   5463\u001b[0m             \u001b[1;32mif\u001b[0m \u001b[0mself\u001b[0m\u001b[1;33m.\u001b[0m\u001b[0m_info_axis\u001b[0m\u001b[1;33m.\u001b[0m\u001b[0m_can_hold_identifiers_and_holds_name\u001b[0m\u001b[1;33m(\u001b[0m\u001b[0mname\u001b[0m\u001b[1;33m)\u001b[0m\u001b[1;33m:\u001b[0m\u001b[1;33m\u001b[0m\u001b[1;33m\u001b[0m\u001b[0m\n\u001b[0;32m   5464\u001b[0m                 \u001b[1;32mreturn\u001b[0m \u001b[0mself\u001b[0m\u001b[1;33m[\u001b[0m\u001b[0mname\u001b[0m\u001b[1;33m]\u001b[0m\u001b[1;33m\u001b[0m\u001b[1;33m\u001b[0m\u001b[0m\n\u001b[1;32m-> 5465\u001b[1;33m             \u001b[1;32mreturn\u001b[0m \u001b[0mobject\u001b[0m\u001b[1;33m.\u001b[0m\u001b[0m__getattribute__\u001b[0m\u001b[1;33m(\u001b[0m\u001b[0mself\u001b[0m\u001b[1;33m,\u001b[0m \u001b[0mname\u001b[0m\u001b[1;33m)\u001b[0m\u001b[1;33m\u001b[0m\u001b[1;33m\u001b[0m\u001b[0m\n\u001b[0m\u001b[0;32m   5466\u001b[0m \u001b[1;33m\u001b[0m\u001b[0m\n\u001b[0;32m   5467\u001b[0m     \u001b[1;32mdef\u001b[0m \u001b[0m__setattr__\u001b[0m\u001b[1;33m(\u001b[0m\u001b[0mself\u001b[0m\u001b[1;33m,\u001b[0m \u001b[0mname\u001b[0m\u001b[1;33m:\u001b[0m \u001b[0mstr\u001b[0m\u001b[1;33m,\u001b[0m \u001b[0mvalue\u001b[0m\u001b[1;33m)\u001b[0m \u001b[1;33m->\u001b[0m \u001b[1;32mNone\u001b[0m\u001b[1;33m:\u001b[0m\u001b[1;33m\u001b[0m\u001b[1;33m\u001b[0m\u001b[0m\n",
      "\u001b[1;31mAttributeError\u001b[0m: 'Series' object has no attribute 'Counter'"
     ]
    },
    {
     "data": {
      "text/plain": [
       "<Figure size 1440x720 with 0 Axes>"
      ]
     },
     "metadata": {},
     "output_type": "display_data"
    }
   ],
   "source": [
    "plt.figure(figsize=(20, 10))\n",
    "plt.bar(hour, hour.Counter, color='grey', width=1)\n",
    "plt.xlabel('Hours')\n",
    "plt.ylabel('Frequency')\n",
    "plt.title('Hours Plot')\n",
    "sns.set()"
   ]
  },
  {
   "cell_type": "markdown",
   "id": "b605df74",
   "metadata": {},
   "source": [
    "# part II Experiment and metrics design\n"
   ]
  },
  {
   "cell_type": "code",
   "execution_count": null,
   "id": "d149a513",
   "metadata": {},
   "outputs": [],
   "source": []
  }
 ],
 "metadata": {
  "kernelspec": {
   "display_name": "Python 3",
   "language": "python",
   "name": "python3"
  },
  "language_info": {
   "codemirror_mode": {
    "name": "ipython",
    "version": 3
   },
   "file_extension": ".py",
   "mimetype": "text/x-python",
   "name": "python",
   "nbconvert_exporter": "python",
   "pygments_lexer": "ipython3",
   "version": "3.8.8"
  }
 },
 "nbformat": 4,
 "nbformat_minor": 5
}
