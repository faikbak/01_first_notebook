{
 "cells": [
  {
   "cell_type": "code",
   "execution_count": 685,
   "id": "fc5c8f42",
   "metadata": {},
   "outputs": [],
   "source": [
    "import pandas as pd\n",
    "import numpy as np\n",
    "import seaborn as sns\n",
    "import json\n",
    "from datetime import datetime\n",
    "from datetime import date\n",
    "from datetime import time\n",
    "import matplotlib.pyplot as plt\n",
    "\n",
    "#for weekday names and month names i might use abbravation: list(calendar.day_name)\n",
    "import calendar\n",
    "\n",
    "#to measure hourly daily frequencies\n",
    "from collections import Counter"
   ]
  },
  {
   "cell_type": "markdown",
   "id": "7cb6b0f2",
   "metadata": {},
   "source": [
    "#### alternative json reading method"
   ]
  },
  {
   "cell_type": "code",
   "execution_count": 636,
   "id": "bc885964",
   "metadata": {},
   "outputs": [
    {
     "data": {
      "text/plain": [
       "\"\\nwith open('ultimate_data_challenge.json') as f:\\n  data = json.load(f)\\n\""
      ]
     },
     "execution_count": 636,
     "metadata": {},
     "output_type": "execute_result"
    }
   ],
   "source": [
    "'''\n",
    "with open('ultimate_data_challenge.json') as f:\n",
    "  data = json.load(f)\n",
    "'''"
   ]
  },
  {
   "cell_type": "code",
   "execution_count": 637,
   "id": "5311679e",
   "metadata": {},
   "outputs": [],
   "source": [
    "log=pd.read_json('logins.json')\n",
    "udt=pd.read_json('ultimate_data_challenge.json')"
   ]
  },
  {
   "cell_type": "markdown",
   "id": "e7d675ec",
   "metadata": {},
   "source": [
    "# part I  Exploratory data analysis"
   ]
  },
  {
   "cell_type": "code",
   "execution_count": 638,
   "id": "c6c65991",
   "metadata": {},
   "outputs": [
    {
     "data": {
      "text/plain": [
       "Index(['login_time'], dtype='object')"
      ]
     },
     "execution_count": 638,
     "metadata": {},
     "output_type": "execute_result"
    }
   ],
   "source": [
    "log.columns"
   ]
  },
  {
   "cell_type": "code",
   "execution_count": 639,
   "id": "3b8af100",
   "metadata": {},
   "outputs": [
    {
     "data": {
      "text/html": [
       "<div>\n",
       "<style scoped>\n",
       "    .dataframe tbody tr th:only-of-type {\n",
       "        vertical-align: middle;\n",
       "    }\n",
       "\n",
       "    .dataframe tbody tr th {\n",
       "        vertical-align: top;\n",
       "    }\n",
       "\n",
       "    .dataframe thead th {\n",
       "        text-align: right;\n",
       "    }\n",
       "</style>\n",
       "<table border=\"1\" class=\"dataframe\">\n",
       "  <thead>\n",
       "    <tr style=\"text-align: right;\">\n",
       "      <th></th>\n",
       "      <th>login_time</th>\n",
       "    </tr>\n",
       "  </thead>\n",
       "  <tbody>\n",
       "    <tr>\n",
       "      <th>12965</th>\n",
       "      <td>1970-01-19 19:50:56</td>\n",
       "    </tr>\n",
       "    <tr>\n",
       "      <th>39318</th>\n",
       "      <td>1970-02-22 01:32:02</td>\n",
       "    </tr>\n",
       "    <tr>\n",
       "      <th>63660</th>\n",
       "      <td>1970-03-17 17:22:20</td>\n",
       "    </tr>\n",
       "    <tr>\n",
       "      <th>28129</th>\n",
       "      <td>1970-02-09 21:51:42</td>\n",
       "    </tr>\n",
       "    <tr>\n",
       "      <th>21555</th>\n",
       "      <td>1970-02-01 04:30:04</td>\n",
       "    </tr>\n",
       "  </tbody>\n",
       "</table>\n",
       "</div>"
      ],
      "text/plain": [
       "               login_time\n",
       "12965 1970-01-19 19:50:56\n",
       "39318 1970-02-22 01:32:02\n",
       "63660 1970-03-17 17:22:20\n",
       "28129 1970-02-09 21:51:42\n",
       "21555 1970-02-01 04:30:04"
      ]
     },
     "execution_count": 639,
     "metadata": {},
     "output_type": "execute_result"
    }
   ],
   "source": [
    "log.sample(5)"
   ]
  },
  {
   "cell_type": "code",
   "execution_count": 640,
   "id": "8f079b05",
   "metadata": {
    "scrolled": true
   },
   "outputs": [
    {
     "name": "stdout",
     "output_type": "stream",
     "text": [
      "<class 'pandas.core.frame.DataFrame'>\n",
      "RangeIndex: 93142 entries, 0 to 93141\n",
      "Data columns (total 1 columns):\n",
      " #   Column      Non-Null Count  Dtype         \n",
      "---  ------      --------------  -----         \n",
      " 0   login_time  93142 non-null  datetime64[ns]\n",
      "dtypes: datetime64[ns](1)\n",
      "memory usage: 727.8 KB\n"
     ]
    }
   ],
   "source": [
    "log.info()"
   ]
  },
  {
   "cell_type": "markdown",
   "id": "6874468a",
   "metadata": {},
   "source": [
    "#### sort and login times with 15 min interval"
   ]
  },
  {
   "cell_type": "code",
   "execution_count": 641,
   "id": "8467061d",
   "metadata": {
    "scrolled": true
   },
   "outputs": [
    {
     "data": {
      "text/html": [
       "<div>\n",
       "<style scoped>\n",
       "    .dataframe tbody tr th:only-of-type {\n",
       "        vertical-align: middle;\n",
       "    }\n",
       "\n",
       "    .dataframe tbody tr th {\n",
       "        vertical-align: top;\n",
       "    }\n",
       "\n",
       "    .dataframe thead th {\n",
       "        text-align: right;\n",
       "    }\n",
       "</style>\n",
       "<table border=\"1\" class=\"dataframe\">\n",
       "  <thead>\n",
       "    <tr style=\"text-align: right;\">\n",
       "      <th></th>\n",
       "      <th>login_time</th>\n",
       "      <th>count</th>\n",
       "    </tr>\n",
       "  </thead>\n",
       "  <tbody>\n",
       "    <tr>\n",
       "      <th>8170</th>\n",
       "      <td>1970-03-27 22:30:00</td>\n",
       "      <td>18</td>\n",
       "    </tr>\n",
       "    <tr>\n",
       "      <th>3693</th>\n",
       "      <td>1970-02-09 07:15:00</td>\n",
       "      <td>4</td>\n",
       "    </tr>\n",
       "    <tr>\n",
       "      <th>4470</th>\n",
       "      <td>1970-02-17 09:30:00</td>\n",
       "      <td>7</td>\n",
       "    </tr>\n",
       "    <tr>\n",
       "      <th>8160</th>\n",
       "      <td>1970-03-27 20:00:00</td>\n",
       "      <td>14</td>\n",
       "    </tr>\n",
       "    <tr>\n",
       "      <th>129</th>\n",
       "      <td>1970-01-03 04:15:00</td>\n",
       "      <td>21</td>\n",
       "    </tr>\n",
       "    <tr>\n",
       "      <th>1079</th>\n",
       "      <td>1970-01-13 01:45:00</td>\n",
       "      <td>4</td>\n",
       "    </tr>\n",
       "    <tr>\n",
       "      <th>8970</th>\n",
       "      <td>1970-04-05 06:30:00</td>\n",
       "      <td>5</td>\n",
       "    </tr>\n",
       "    <tr>\n",
       "      <th>899</th>\n",
       "      <td>1970-01-11 04:45:00</td>\n",
       "      <td>45</td>\n",
       "    </tr>\n",
       "    <tr>\n",
       "      <th>3210</th>\n",
       "      <td>1970-02-04 06:30:00</td>\n",
       "      <td>0</td>\n",
       "    </tr>\n",
       "    <tr>\n",
       "      <th>8536</th>\n",
       "      <td>1970-03-31 18:00:00</td>\n",
       "      <td>7</td>\n",
       "    </tr>\n",
       "  </tbody>\n",
       "</table>\n",
       "</div>"
      ],
      "text/plain": [
       "              login_time  count\n",
       "8170 1970-03-27 22:30:00     18\n",
       "3693 1970-02-09 07:15:00      4\n",
       "4470 1970-02-17 09:30:00      7\n",
       "8160 1970-03-27 20:00:00     14\n",
       "129  1970-01-03 04:15:00     21\n",
       "1079 1970-01-13 01:45:00      4\n",
       "8970 1970-04-05 06:30:00      5\n",
       "899  1970-01-11 04:45:00     45\n",
       "3210 1970-02-04 06:30:00      0\n",
       "8536 1970-03-31 18:00:00      7"
      ]
     },
     "execution_count": 641,
     "metadata": {},
     "output_type": "execute_result"
    }
   ],
   "source": [
    "log['count'] = 1\n",
    "log.sort_index(inplace=True)\n",
    "log_aggregated=pd.DataFrame(log.groupby([pd.Grouper(key='login_time', freq='15Min')]).sum()).reset_index()\n",
    "log_aggregated.sample(10)"
   ]
  },
  {
   "cell_type": "code",
   "execution_count": 642,
   "id": "42ab9cd9",
   "metadata": {},
   "outputs": [
    {
     "data": {
      "text/plain": [
       "\" another 15minute resempling method\\n\\ndf.resample('15T').asfreq()\\n\""
      ]
     },
     "execution_count": 642,
     "metadata": {},
     "output_type": "execute_result"
    }
   ],
   "source": [
    "''' another 15minute resempling method\n",
    "\n",
    "df.resample('15T').asfreq()\n",
    "'''"
   ]
  },
  {
   "cell_type": "code",
   "execution_count": 643,
   "id": "d17000d2",
   "metadata": {},
   "outputs": [],
   "source": [
    "#log_agg.set_index('login_time', inplace=True)"
   ]
  },
  {
   "cell_type": "code",
   "execution_count": 644,
   "id": "203c08be",
   "metadata": {},
   "outputs": [
    {
     "data": {
      "text/plain": [
       "login_time    0\n",
       "count         0\n",
       "dtype: int64"
      ]
     },
     "execution_count": 644,
     "metadata": {},
     "output_type": "execute_result"
    }
   ],
   "source": [
    "log_aggregated.isna().sum()"
   ]
  },
  {
   "cell_type": "code",
   "execution_count": 645,
   "id": "9f7f9308",
   "metadata": {},
   "outputs": [
    {
     "data": {
      "text/html": [
       "<div>\n",
       "<style scoped>\n",
       "    .dataframe tbody tr th:only-of-type {\n",
       "        vertical-align: middle;\n",
       "    }\n",
       "\n",
       "    .dataframe tbody tr th {\n",
       "        vertical-align: top;\n",
       "    }\n",
       "\n",
       "    .dataframe thead th {\n",
       "        text-align: right;\n",
       "    }\n",
       "</style>\n",
       "<table border=\"1\" class=\"dataframe\">\n",
       "  <thead>\n",
       "    <tr style=\"text-align: right;\">\n",
       "      <th></th>\n",
       "      <th>count</th>\n",
       "    </tr>\n",
       "  </thead>\n",
       "  <tbody>\n",
       "    <tr>\n",
       "      <th>count</th>\n",
       "      <td>9788.000000</td>\n",
       "    </tr>\n",
       "    <tr>\n",
       "      <th>mean</th>\n",
       "      <td>9.515938</td>\n",
       "    </tr>\n",
       "    <tr>\n",
       "      <th>std</th>\n",
       "      <td>8.328818</td>\n",
       "    </tr>\n",
       "    <tr>\n",
       "      <th>min</th>\n",
       "      <td>0.000000</td>\n",
       "    </tr>\n",
       "    <tr>\n",
       "      <th>25%</th>\n",
       "      <td>3.000000</td>\n",
       "    </tr>\n",
       "    <tr>\n",
       "      <th>50%</th>\n",
       "      <td>7.000000</td>\n",
       "    </tr>\n",
       "    <tr>\n",
       "      <th>75%</th>\n",
       "      <td>13.000000</td>\n",
       "    </tr>\n",
       "    <tr>\n",
       "      <th>max</th>\n",
       "      <td>73.000000</td>\n",
       "    </tr>\n",
       "  </tbody>\n",
       "</table>\n",
       "</div>"
      ],
      "text/plain": [
       "             count\n",
       "count  9788.000000\n",
       "mean      9.515938\n",
       "std       8.328818\n",
       "min       0.000000\n",
       "25%       3.000000\n",
       "50%       7.000000\n",
       "75%      13.000000\n",
       "max      73.000000"
      ]
     },
     "execution_count": 645,
     "metadata": {},
     "output_type": "execute_result"
    }
   ],
   "source": [
    "log_aggregated.describe()"
   ]
  },
  {
   "cell_type": "markdown",
   "id": "cc6e6801",
   "metadata": {},
   "source": [
    "visualize and observer if there is a correlation with days, i might use it during analyzing"
   ]
  },
  {
   "cell_type": "code",
   "execution_count": 646,
   "id": "575b320f",
   "metadata": {},
   "outputs": [
    {
     "data": {
      "text/plain": [
       "0       Thursday\n",
       "1       Thursday\n",
       "2       Thursday\n",
       "3       Thursday\n",
       "4       Thursday\n",
       "          ...   \n",
       "9783      Monday\n",
       "9784      Monday\n",
       "9785      Monday\n",
       "9786      Monday\n",
       "9787      Monday\n",
       "Name: login_time, Length: 9788, dtype: object"
      ]
     },
     "execution_count": 646,
     "metadata": {},
     "output_type": "execute_result"
    }
   ],
   "source": [
    "login_days=log_aggregated['login_time'].dt.day_name()\n",
    "login_days"
   ]
  },
  {
   "cell_type": "code",
   "execution_count": null,
   "id": "92f7284e",
   "metadata": {},
   "outputs": [],
   "source": [
    "#week day names from unique values\n",
    "days=login_days.unique()"
   ]
  },
  {
   "cell_type": "code",
   "execution_count": 681,
   "id": "62bd7a00",
   "metadata": {},
   "outputs": [
    {
     "data": {
      "text/plain": [
       "([0, 1, 2, 3, 4, 5, 6],\n",
       " [Text(0, 0, ''),\n",
       "  Text(0, 0, ''),\n",
       "  Text(0, 0, ''),\n",
       "  Text(0, 0, ''),\n",
       "  Text(0, 0, ''),\n",
       "  Text(0, 0, ''),\n",
       "  Text(0, 0, '')])"
      ]
     },
     "execution_count": 681,
     "metadata": {},
     "output_type": "execute_result"
    },
    {
     "data": {
      "image/png": "[encoded data removed]",
      "text/plain": [
       "<Figure size 432x288 with 1 Axes>"
      ]
     },
     "metadata": {},
     "output_type": "display_data"
    }
   ],
   "source": [
    "#use days variable as xticks\n",
    "login_days.hist()\n",
    "plt.xticks(rotation = 65)"
   ]
  },
  {
   "cell_type": "markdown",
   "id": "ac78cd0e",
   "metadata": {},
   "source": [
    "visualize and observer if there is a pattern in hours like during midnight,in the morning..."
   ]
  },
  {
   "cell_type": "code",
   "execution_count": 676,
   "id": "de5133a9",
   "metadata": {},
   "outputs": [
    {
     "data": {
      "text/plain": [
       "0        20\n",
       "1        20\n",
       "2        20\n",
       "3        20\n",
       "4        20\n",
       "         ..\n",
       "93137    18\n",
       "93138    18\n",
       "93139    18\n",
       "93140    18\n",
       "93141    18\n",
       "Name: login_time, Length: 93142, dtype: int64"
      ]
     },
     "execution_count": 676,
     "metadata": {},
     "output_type": "execute_result"
    }
   ],
   "source": [
    "hours=log['login_time'].dt.hour\n",
    "hours"
   ]
  },
  {
   "cell_type": "code",
   "execution_count": 677,
   "id": "208f47df",
   "metadata": {},
   "outputs": [
    {
     "data": {
      "text/plain": [
       "<AxesSubplot:>"
      ]
     },
     "execution_count": 677,
     "metadata": {},
     "output_type": "execute_result"
    },
    {
     "data": {
      "image/png": "[encoded data removed]",
      "text/plain": [
       "<Figure size 432x288 with 1 Axes>"
      ]
     },
     "metadata": {},
     "output_type": "display_data"
    }
   ],
   "source": [
    "hours.hist()"
   ]
  },
  {
   "cell_type": "markdown",
   "id": "a51d664d",
   "metadata": {},
   "source": [
    "yes! in the morning there are less demand than in the evening. the demand becomes the highest midnights"
   ]
  },
  {
   "cell_type": "code",
   "execution_count": 704,
   "id": "d1c4d717",
   "metadata": {},
   "outputs": [
    {
     "ename": "TypeError",
     "evalue": "the dtypes of parameters x (object) and width (timedelta64[h]) are incompatible",
     "output_type": "error",
     "traceback": [
      "\u001b[1;31m---------------------------------------------------------------------------\u001b[0m",
      "\u001b[1;31mUFuncTypeError\u001b[0m                            Traceback (most recent call last)",
      "\u001b[1;32m~\\anaconda3\\lib\\site-packages\\matplotlib\\axes\\_axes.py\u001b[0m in \u001b[0;36mbar\u001b[1;34m(self, x, height, width, bottom, align, **kwargs)\u001b[0m\n\u001b[0;32m   2459\u001b[0m                 \u001b[1;32mtry\u001b[0m\u001b[1;33m:\u001b[0m\u001b[1;33m\u001b[0m\u001b[1;33m\u001b[0m\u001b[0m\n\u001b[1;32m-> 2460\u001b[1;33m                     \u001b[0mleft\u001b[0m \u001b[1;33m=\u001b[0m \u001b[0mx\u001b[0m \u001b[1;33m-\u001b[0m \u001b[0mwidth\u001b[0m \u001b[1;33m/\u001b[0m \u001b[1;36m2\u001b[0m\u001b[1;33m\u001b[0m\u001b[1;33m\u001b[0m\u001b[0m\n\u001b[0m\u001b[0;32m   2461\u001b[0m                 \u001b[1;32mexcept\u001b[0m \u001b[0mTypeError\u001b[0m \u001b[1;32mas\u001b[0m \u001b[0me\u001b[0m\u001b[1;33m:\u001b[0m\u001b[1;33m\u001b[0m\u001b[1;33m\u001b[0m\u001b[0m\n",
      "\u001b[1;31mUFuncTypeError\u001b[0m: ufunc 'subtract' cannot use operands with types dtype('O') and dtype('<m8[h]')",
      "\nThe above exception was the direct cause of the following exception:\n",
      "\u001b[1;31mTypeError\u001b[0m                                 Traceback (most recent call last)",
      "\u001b[1;32m<ipython-input-704-60fa08cb367e>\u001b[0m in \u001b[0;36m<module>\u001b[1;34m\u001b[0m\n\u001b[0;32m      1\u001b[0m \u001b[0mplt\u001b[0m\u001b[1;33m.\u001b[0m\u001b[0mfigure\u001b[0m\u001b[1;33m(\u001b[0m\u001b[0mfigsize\u001b[0m\u001b[1;33m=\u001b[0m\u001b[1;33m(\u001b[0m\u001b[1;36m20\u001b[0m\u001b[1;33m,\u001b[0m \u001b[1;36m10\u001b[0m\u001b[1;33m)\u001b[0m\u001b[1;33m)\u001b[0m\u001b[1;33m\u001b[0m\u001b[1;33m\u001b[0m\u001b[0m\n\u001b[1;32m----> 2\u001b[1;33m \u001b[0mplt\u001b[0m\u001b[1;33m.\u001b[0m\u001b[0mbar\u001b[0m\u001b[1;33m(\u001b[0m\u001b[0mCounter\u001b[0m\u001b[1;33m(\u001b[0m\u001b[0mhours\u001b[0m\u001b[1;33m)\u001b[0m\u001b[1;33m,\u001b[0m \u001b[0mhours\u001b[0m\u001b[1;33m.\u001b[0m\u001b[0munique\u001b[0m\u001b[1;33m,\u001b[0m \u001b[0mcolor\u001b[0m\u001b[1;33m=\u001b[0m\u001b[1;34m'grey'\u001b[0m\u001b[1;33m,\u001b[0m  \u001b[0mwidth\u001b[0m\u001b[1;33m=\u001b[0m\u001b[0mnp\u001b[0m\u001b[1;33m.\u001b[0m\u001b[0mtimedelta64\u001b[0m\u001b[1;33m(\u001b[0m\u001b[1;36m12\u001b[0m\u001b[1;33m,\u001b[0m \u001b[1;34m'h'\u001b[0m\u001b[1;33m)\u001b[0m\u001b[1;33m)\u001b[0m\u001b[1;33m\u001b[0m\u001b[1;33m\u001b[0m\u001b[0m\n\u001b[0m\u001b[0;32m      3\u001b[0m \u001b[0mplt\u001b[0m\u001b[1;33m.\u001b[0m\u001b[0mxlabel\u001b[0m\u001b[1;33m(\u001b[0m\u001b[1;34m'Hours'\u001b[0m\u001b[1;33m)\u001b[0m\u001b[1;33m\u001b[0m\u001b[1;33m\u001b[0m\u001b[0m\n\u001b[0;32m      4\u001b[0m \u001b[0mplt\u001b[0m\u001b[1;33m.\u001b[0m\u001b[0mylabel\u001b[0m\u001b[1;33m(\u001b[0m\u001b[1;34m'Frequency'\u001b[0m\u001b[1;33m)\u001b[0m\u001b[1;33m\u001b[0m\u001b[1;33m\u001b[0m\u001b[0m\n\u001b[0;32m      5\u001b[0m \u001b[0mplt\u001b[0m\u001b[1;33m.\u001b[0m\u001b[0mtitle\u001b[0m\u001b[1;33m(\u001b[0m\u001b[1;34m'Hours Plot'\u001b[0m\u001b[1;33m)\u001b[0m\u001b[1;33m\u001b[0m\u001b[1;33m\u001b[0m\u001b[0m\n",
      "\u001b[1;32m~\\anaconda3\\lib\\site-packages\\matplotlib\\pyplot.py\u001b[0m in \u001b[0;36mbar\u001b[1;34m(x, height, width, bottom, align, data, **kwargs)\u001b[0m\n\u001b[0;32m   2485\u001b[0m         \u001b[0mx\u001b[0m\u001b[1;33m,\u001b[0m \u001b[0mheight\u001b[0m\u001b[1;33m,\u001b[0m \u001b[0mwidth\u001b[0m\u001b[1;33m=\u001b[0m\u001b[1;36m0.8\u001b[0m\u001b[1;33m,\u001b[0m \u001b[0mbottom\u001b[0m\u001b[1;33m=\u001b[0m\u001b[1;32mNone\u001b[0m\u001b[1;33m,\u001b[0m \u001b[1;33m*\u001b[0m\u001b[1;33m,\u001b[0m \u001b[0malign\u001b[0m\u001b[1;33m=\u001b[0m\u001b[1;34m'center'\u001b[0m\u001b[1;33m,\u001b[0m\u001b[1;33m\u001b[0m\u001b[1;33m\u001b[0m\u001b[0m\n\u001b[0;32m   2486\u001b[0m         data=None, **kwargs):\n\u001b[1;32m-> 2487\u001b[1;33m     return gca().bar(\n\u001b[0m\u001b[0;32m   2488\u001b[0m         \u001b[0mx\u001b[0m\u001b[1;33m,\u001b[0m \u001b[0mheight\u001b[0m\u001b[1;33m,\u001b[0m \u001b[0mwidth\u001b[0m\u001b[1;33m=\u001b[0m\u001b[0mwidth\u001b[0m\u001b[1;33m,\u001b[0m \u001b[0mbottom\u001b[0m\u001b[1;33m=\u001b[0m\u001b[0mbottom\u001b[0m\u001b[1;33m,\u001b[0m \u001b[0malign\u001b[0m\u001b[1;33m=\u001b[0m\u001b[0malign\u001b[0m\u001b[1;33m,\u001b[0m\u001b[1;33m\u001b[0m\u001b[1;33m\u001b[0m\u001b[0m\n\u001b[0;32m   2489\u001b[0m         **({\"data\": data} if data is not None else {}), **kwargs)\n",
      "\u001b[1;32m~\\anaconda3\\lib\\site-packages\\matplotlib\\__init__.py\u001b[0m in \u001b[0;36minner\u001b[1;34m(ax, data, *args, **kwargs)\u001b[0m\n\u001b[0;32m   1445\u001b[0m     \u001b[1;32mdef\u001b[0m \u001b[0minner\u001b[0m\u001b[1;33m(\u001b[0m\u001b[0max\u001b[0m\u001b[1;33m,\u001b[0m \u001b[1;33m*\u001b[0m\u001b[0margs\u001b[0m\u001b[1;33m,\u001b[0m \u001b[0mdata\u001b[0m\u001b[1;33m=\u001b[0m\u001b[1;32mNone\u001b[0m\u001b[1;33m,\u001b[0m \u001b[1;33m**\u001b[0m\u001b[0mkwargs\u001b[0m\u001b[1;33m)\u001b[0m\u001b[1;33m:\u001b[0m\u001b[1;33m\u001b[0m\u001b[1;33m\u001b[0m\u001b[0m\n\u001b[0;32m   1446\u001b[0m         \u001b[1;32mif\u001b[0m \u001b[0mdata\u001b[0m \u001b[1;32mis\u001b[0m \u001b[1;32mNone\u001b[0m\u001b[1;33m:\u001b[0m\u001b[1;33m\u001b[0m\u001b[1;33m\u001b[0m\u001b[0m\n\u001b[1;32m-> 1447\u001b[1;33m             \u001b[1;32mreturn\u001b[0m \u001b[0mfunc\u001b[0m\u001b[1;33m(\u001b[0m\u001b[0max\u001b[0m\u001b[1;33m,\u001b[0m \u001b[1;33m*\u001b[0m\u001b[0mmap\u001b[0m\u001b[1;33m(\u001b[0m\u001b[0msanitize_sequence\u001b[0m\u001b[1;33m,\u001b[0m \u001b[0margs\u001b[0m\u001b[1;33m)\u001b[0m\u001b[1;33m,\u001b[0m \u001b[1;33m**\u001b[0m\u001b[0mkwargs\u001b[0m\u001b[1;33m)\u001b[0m\u001b[1;33m\u001b[0m\u001b[1;33m\u001b[0m\u001b[0m\n\u001b[0m\u001b[0;32m   1448\u001b[0m \u001b[1;33m\u001b[0m\u001b[0m\n\u001b[0;32m   1449\u001b[0m         \u001b[0mbound\u001b[0m \u001b[1;33m=\u001b[0m \u001b[0mnew_sig\u001b[0m\u001b[1;33m.\u001b[0m\u001b[0mbind\u001b[0m\u001b[1;33m(\u001b[0m\u001b[0max\u001b[0m\u001b[1;33m,\u001b[0m \u001b[1;33m*\u001b[0m\u001b[0margs\u001b[0m\u001b[1;33m,\u001b[0m \u001b[1;33m**\u001b[0m\u001b[0mkwargs\u001b[0m\u001b[1;33m)\u001b[0m\u001b[1;33m\u001b[0m\u001b[1;33m\u001b[0m\u001b[0m\n",
      "\u001b[1;32m~\\anaconda3\\lib\\site-packages\\matplotlib\\axes\\_axes.py\u001b[0m in \u001b[0;36mbar\u001b[1;34m(self, x, height, width, bottom, align, **kwargs)\u001b[0m\n\u001b[0;32m   2460\u001b[0m                     \u001b[0mleft\u001b[0m \u001b[1;33m=\u001b[0m \u001b[0mx\u001b[0m \u001b[1;33m-\u001b[0m \u001b[0mwidth\u001b[0m \u001b[1;33m/\u001b[0m \u001b[1;36m2\u001b[0m\u001b[1;33m\u001b[0m\u001b[1;33m\u001b[0m\u001b[0m\n\u001b[0;32m   2461\u001b[0m                 \u001b[1;32mexcept\u001b[0m \u001b[0mTypeError\u001b[0m \u001b[1;32mas\u001b[0m \u001b[0me\u001b[0m\u001b[1;33m:\u001b[0m\u001b[1;33m\u001b[0m\u001b[1;33m\u001b[0m\u001b[0m\n\u001b[1;32m-> 2462\u001b[1;33m                     raise TypeError(f'the dtypes of parameters x ({x.dtype}) '\n\u001b[0m\u001b[0;32m   2463\u001b[0m                                     \u001b[1;34mf'and width ({width.dtype}) '\u001b[0m\u001b[1;33m\u001b[0m\u001b[1;33m\u001b[0m\u001b[0m\n\u001b[0;32m   2464\u001b[0m                                     f'are incompatible') from e\n",
      "\u001b[1;31mTypeError\u001b[0m: the dtypes of parameters x (object) and width (timedelta64[h]) are incompatible"
     ]
    },
    {
     "data": {
      "image/png": "[encoded data removed]",
      "text/plain": [
       "<Figure size 1440x720 with 1 Axes>"
      ]
     },
     "metadata": {},
     "output_type": "display_data"
    }
   ],
   "source": [
    "plt.figure(figsize=(20, 10))\n",
    "plt.bar(Counter(hours), hours.unique, color='grey',  width=np.timedelta64(12, 'h')) \n",
    "plt.xlabel('Hours')\n",
    "plt.ylabel('Frequency')\n",
    "plt.title('Hours Plot')\n",
    "sns.set()"
   ]
  },
  {
   "cell_type": "markdown",
   "id": "efd1c21d",
   "metadata": {},
   "source": [
    "### visualization part"
   ]
  },
  {
   "cell_type": "code",
   "execution_count": null,
   "id": "55d72578",
   "metadata": {
    "scrolled": true
   },
   "outputs": [],
   "source": [
    "log_aggregated['count'].plot()\n",
    "plt.xlabel(\"X axis label\")\n",
    "plt.ylabel(\"Y axis label\")"
   ]
  },
  {
   "cell_type": "code",
   "execution_count": null,
   "id": "ae1db1b1",
   "metadata": {
    "scrolled": true
   },
   "outputs": [],
   "source": [
    "log_agg.rolling(window=500).mean().plot()\n",
    "plt.show()"
   ]
  },
  {
   "cell_type": "markdown",
   "id": "7aac018d",
   "metadata": {},
   "source": [
    "there is definitly an upward trend. that's why i need to draw slope line"
   ]
  },
  {
   "cell_type": "markdown",
   "id": "459e94d1",
   "metadata": {},
   "source": [
    "when we limit the date interval with only one month, we see that there are small discrete waves and we assume they are weekends because there are nearly 4 of them in a month.\n",
    "\n",
    "let's do the same for one day and see daily logins "
   ]
  },
  {
   "cell_type": "code",
   "execution_count": null,
   "id": "deb55f29",
   "metadata": {},
   "outputs": [],
   "source": [
    "log_agg.head()"
   ]
  },
  {
   "cell_type": "code",
   "execution_count": null,
   "id": "8b2d0a00",
   "metadata": {},
   "outputs": [],
   "source": [
    "log_agg.loc['1970-02-01':'1970-02-02' ]"
   ]
  },
  {
   "cell_type": "markdown",
   "id": "e6185b59",
   "metadata": {},
   "source": [
    "mostly the app usage,taxi calls are at it's peak after midnight, which is pretty understandable"
   ]
  },
  {
   "cell_type": "markdown",
   "id": "f515ec44",
   "metadata": {},
   "source": [
    "now let's see overall smoothed app usage rolling sums together with un smoothed data for 1 week"
   ]
  },
  {
   "cell_type": "code",
   "execution_count": null,
   "id": "d9416a5c",
   "metadata": {
    "scrolled": true
   },
   "outputs": [],
   "source": [
    "unsmoothed = login_times_agg['count'].loc['1970-02-01':'1970-02-07']\n",
    "smoothed = unsmoothed.rolling(window=100).mean()\n",
    "one_week = pd.DataFrame({'unsmoothed':unsmoothed, 'smoothed':smoothed})\n",
    "one_week.plot()\n",
    "plt.show()"
   ]
  },
  {
   "cell_type": "code",
   "execution_count": null,
   "id": "0eea69b3",
   "metadata": {},
   "outputs": [],
   "source": [
    "login_times_agg.columns"
   ]
  },
  {
   "cell_type": "markdown",
   "id": "ad363500",
   "metadata": {},
   "source": [
    "let's check login hours"
   ]
  },
  {
   "cell_type": "markdown",
   "id": "57fa72b1",
   "metadata": {},
   "source": [
    "first:i couldn't inlcude index column into my analysis, let's create another column with index variables"
   ]
  },
  {
   "cell_type": "code",
   "execution_count": null,
   "id": "d01f4cb1",
   "metadata": {},
   "outputs": [],
   "source": [
    "login_times_agg['index'] = login_times_agg.index"
   ]
  },
  {
   "cell_type": "code",
   "execution_count": null,
   "id": "26f8ecc8",
   "metadata": {},
   "outputs": [],
   "source": [
    "pd.to_datetime(login_times_agg['index'])"
   ]
  },
  {
   "cell_type": "markdown",
   "id": "5f0c37ad",
   "metadata": {},
   "source": [
    "let's check dtypes"
   ]
  },
  {
   "cell_type": "code",
   "execution_count": null,
   "id": "5579dfc3",
   "metadata": {},
   "outputs": [],
   "source": [
    "login_times_agg.dtypes"
   ]
  },
  {
   "cell_type": "markdown",
   "id": "5d51c59f",
   "metadata": {},
   "source": [
    "let's see if we can see login hours"
   ]
  },
  {
   "cell_type": "code",
   "execution_count": null,
   "id": "ba47ceb1",
   "metadata": {},
   "outputs": [],
   "source": [
    "login_times_agg['index'].dt.hour"
   ]
  },
  {
   "cell_type": "code",
   "execution_count": null,
   "id": "9e672ad7",
   "metadata": {},
   "outputs": [],
   "source": [
    "hour=login_times_agg['index'].dt.hour"
   ]
  },
  {
   "cell_type": "markdown",
   "id": "7774bbb0",
   "metadata": {},
   "source": [
    "now use histogram to see most active days and hours"
   ]
  },
  {
   "cell_type": "code",
   "execution_count": null,
   "id": "049991a2",
   "metadata": {},
   "outputs": [],
   "source": [
    "plt.figure(figsize=(20, 10))\n",
    "plt.bar(hour, hour.Counter, color='grey', width=1)\n",
    "plt.xlabel('Hours')\n",
    "plt.ylabel('Frequency')\n",
    "plt.title('Hours Plot')\n",
    "sns.set()"
   ]
  },
  {
   "cell_type": "markdown",
   "id": "b605df74",
   "metadata": {},
   "source": [
    "# part II Experiment and metrics design\n"
   ]
  },
  {
   "cell_type": "code",
   "execution_count": null,
   "id": "d149a513",
   "metadata": {},
   "outputs": [],
   "source": []
  }
 ],
 "metadata": {
  "kernelspec": {
   "display_name": "Python 3",
   "language": "python",
   "name": "python3"
  },
  "language_info": {
   "codemirror_mode": {
    "name": "ipython",
    "version": 3
   },
   "file_extension": ".py",
   "mimetype": "text/x-python",
   "name": "python",
   "nbconvert_exporter": "python",
   "pygments_lexer": "ipython3",
   "version": "3.8.8"
  }
 },
 "nbformat": 4,
 "nbformat_minor": 5
}
